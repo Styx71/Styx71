{
 "cells": [
  {
   "cell_type": "code",
   "execution_count": 1,
   "metadata": {},
   "outputs": [],
   "source": [
    "import pandas as pd"
   ]
  },
  {
   "cell_type": "code",
   "execution_count": 2,
   "metadata": {},
   "outputs": [],
   "source": [
    "df=pd.read_excel(r\"C:\\Users\\oguzhan.guclu\\Desktop\\Data (37).xlsx\",skiprows=2)"
   ]
  },
  {
   "cell_type": "code",
   "execution_count": 3,
   "metadata": {},
   "outputs": [
    {
     "name": "stderr",
     "output_type": "stream",
     "text": [
      "C:\\Users\\oguzhan.guclu\\Anaconda3\\lib\\site-packages\\ipykernel_launcher.py:2: SettingWithCopyWarning: \n",
      "A value is trying to be set on a copy of a slice from a DataFrame.\n",
      "Try using .loc[row_indexer,col_indexer] = value instead\n",
      "\n",
      "See the caveats in the documentation: https://pandas.pydata.org/pandas-docs/stable/user_guide/indexing.html#returning-a-view-versus-a-copy\n",
      "  \n",
      "C:\\Users\\oguzhan.guclu\\Anaconda3\\lib\\site-packages\\ipykernel_launcher.py:3: SettingWithCopyWarning: \n",
      "A value is trying to be set on a copy of a slice from a DataFrame.\n",
      "Try using .loc[row_indexer,col_indexer] = value instead\n",
      "\n",
      "See the caveats in the documentation: https://pandas.pydata.org/pandas-docs/stable/user_guide/indexing.html#returning-a-view-versus-a-copy\n",
      "  This is separate from the ipykernel package so we can avoid doing imports until\n"
     ]
    }
   ],
   "source": [
    "df1=df[[\"Date\",\"MusteriNo\",\"Ciro\"]]\n",
    "df1[\"Date2\"]=df1[\"Date\"]\n",
    "df1[\"SiparisNo\"]=list(range(1,len(df1.Ciro)+1))"
   ]
  },
  {
   "cell_type": "code",
   "execution_count": 14,
   "metadata": {},
   "outputs": [],
   "source": [
    "df_RFM=df1.groupby(\"MusteriNo\").agg({\"Date\": lambda y: (df1[\"Date\"].max().date() - y.max().date()).days,\n",
    "                                   \"SiparisNo\": lambda y: len(y.unique()),\n",
    "                                   \"Ciro\": lambda y:round(y.sum(),2)})"
   ]
  },
  {
   "cell_type": "code",
   "execution_count": 15,
   "metadata": {},
   "outputs": [],
   "source": [
    "df_RFM.columns=[\"Recency\",\"Frequency\",\"Monetary\"]"
   ]
  },
  {
   "cell_type": "code",
   "execution_count": 17,
   "metadata": {},
   "outputs": [
    {
     "data": {
      "text/html": [
       "<div>\n",
       "<style scoped>\n",
       "    .dataframe tbody tr th:only-of-type {\n",
       "        vertical-align: middle;\n",
       "    }\n",
       "\n",
       "    .dataframe tbody tr th {\n",
       "        vertical-align: top;\n",
       "    }\n",
       "\n",
       "    .dataframe thead th {\n",
       "        text-align: right;\n",
       "    }\n",
       "</style>\n",
       "<table border=\"1\" class=\"dataframe\">\n",
       "  <thead>\n",
       "    <tr style=\"text-align: right;\">\n",
       "      <th></th>\n",
       "      <th>Recency</th>\n",
       "      <th>Frequency</th>\n",
       "      <th>Monetary</th>\n",
       "    </tr>\n",
       "    <tr>\n",
       "      <th>MusteriNo</th>\n",
       "      <th></th>\n",
       "      <th></th>\n",
       "      <th></th>\n",
       "    </tr>\n",
       "  </thead>\n",
       "  <tbody>\n",
       "    <tr>\n",
       "      <th>M018481</th>\n",
       "      <td>92</td>\n",
       "      <td>379</td>\n",
       "      <td>8120.64</td>\n",
       "    </tr>\n",
       "    <tr>\n",
       "      <th>M0086QE</th>\n",
       "      <td>0</td>\n",
       "      <td>227</td>\n",
       "      <td>28505.38</td>\n",
       "    </tr>\n",
       "    <tr>\n",
       "      <th>M510952</th>\n",
       "      <td>5</td>\n",
       "      <td>131</td>\n",
       "      <td>12112.42</td>\n",
       "    </tr>\n",
       "    <tr>\n",
       "      <th>M0163PA</th>\n",
       "      <td>0</td>\n",
       "      <td>131</td>\n",
       "      <td>4641.77</td>\n",
       "    </tr>\n",
       "    <tr>\n",
       "      <th>M220085</th>\n",
       "      <td>14</td>\n",
       "      <td>125</td>\n",
       "      <td>6192.29</td>\n",
       "    </tr>\n",
       "    <tr>\n",
       "      <th>...</th>\n",
       "      <td>...</td>\n",
       "      <td>...</td>\n",
       "      <td>...</td>\n",
       "    </tr>\n",
       "    <tr>\n",
       "      <th>M1455W5</th>\n",
       "      <td>65</td>\n",
       "      <td>1</td>\n",
       "      <td>16.57</td>\n",
       "    </tr>\n",
       "    <tr>\n",
       "      <th>M1455W8</th>\n",
       "      <td>140</td>\n",
       "      <td>1</td>\n",
       "      <td>4.40</td>\n",
       "    </tr>\n",
       "    <tr>\n",
       "      <th>M1455XT</th>\n",
       "      <td>140</td>\n",
       "      <td>1</td>\n",
       "      <td>4.40</td>\n",
       "    </tr>\n",
       "    <tr>\n",
       "      <th>M1455Z9</th>\n",
       "      <td>118</td>\n",
       "      <td>1</td>\n",
       "      <td>12.03</td>\n",
       "    </tr>\n",
       "    <tr>\n",
       "      <th>M1643ZF</th>\n",
       "      <td>58</td>\n",
       "      <td>1</td>\n",
       "      <td>20.32</td>\n",
       "    </tr>\n",
       "  </tbody>\n",
       "</table>\n",
       "<p>79905 rows × 3 columns</p>\n",
       "</div>"
      ],
      "text/plain": [
       "           Recency  Frequency  Monetary\n",
       "MusteriNo                              \n",
       "M018481         92        379   8120.64\n",
       "M0086QE          0        227  28505.38\n",
       "M510952          5        131  12112.42\n",
       "M0163PA          0        131   4641.77\n",
       "M220085         14        125   6192.29\n",
       "...            ...        ...       ...\n",
       "M1455W5         65          1     16.57\n",
       "M1455W8        140          1      4.40\n",
       "M1455XT        140          1      4.40\n",
       "M1455Z9        118          1     12.03\n",
       "M1643ZF         58          1     20.32\n",
       "\n",
       "[79905 rows x 3 columns]"
      ]
     },
     "execution_count": 17,
     "metadata": {},
     "output_type": "execute_result"
    }
   ],
   "source": [
    "df_RFM.sort_values(\"Frequency\",ascending=False)"
   ]
  },
  {
   "cell_type": "code",
   "execution_count": 9,
   "metadata": {},
   "outputs": [],
   "source": [
    "Hasandf=pd.read_csv(r\"C:\\Users\\oguzhan.guclu\\Desktop\\rfm.csv\")"
   ]
  },
  {
   "cell_type": "code",
   "execution_count": 13,
   "metadata": {},
   "outputs": [
    {
     "data": {
      "text/html": [
       "<div>\n",
       "<style scoped>\n",
       "    .dataframe tbody tr th:only-of-type {\n",
       "        vertical-align: middle;\n",
       "    }\n",
       "\n",
       "    .dataframe tbody tr th {\n",
       "        vertical-align: top;\n",
       "    }\n",
       "\n",
       "    .dataframe thead th {\n",
       "        text-align: right;\n",
       "    }\n",
       "</style>\n",
       "<table border=\"1\" class=\"dataframe\">\n",
       "  <thead>\n",
       "    <tr style=\"text-align: right;\">\n",
       "      <th></th>\n",
       "      <th>Date</th>\n",
       "      <th>SiparisNo</th>\n",
       "      <th>Ciro</th>\n",
       "    </tr>\n",
       "    <tr>\n",
       "      <th>MusteriNo</th>\n",
       "      <th></th>\n",
       "      <th></th>\n",
       "      <th></th>\n",
       "    </tr>\n",
       "  </thead>\n",
       "  <tbody>\n",
       "    <tr>\n",
       "      <th>M000008</th>\n",
       "      <td>16</td>\n",
       "      <td>5</td>\n",
       "      <td>70.05</td>\n",
       "    </tr>\n",
       "  </tbody>\n",
       "</table>\n",
       "</div>"
      ],
      "text/plain": [
       "           Date  SiparisNo   Ciro\n",
       "MusteriNo                        \n",
       "M000008      16          5  70.05"
      ]
     },
     "execution_count": 13,
     "metadata": {},
     "output_type": "execute_result"
    }
   ],
   "source": [
    "df_RFM[df_RFM.index==\"M000008\"]"
   ]
  },
  {
   "cell_type": "code",
   "execution_count": 13,
   "metadata": {},
   "outputs": [
    {
     "data": {
      "text/plain": [
       "MusteriNo\n",
       "M000008     16\n",
       "M000009     28\n",
       "M00000C      2\n",
       "M000011     26\n",
       "M000013    250\n",
       "          ... \n",
       "M999062    165\n",
       "M999142    138\n",
       "M999170     74\n",
       "M999301      4\n",
       "M999999     27\n",
       "Name: Recency, Length: 79905, dtype: int64"
      ]
     },
     "execution_count": 13,
     "metadata": {},
     "output_type": "execute_result"
    }
   ],
   "source": [
    "df_RFM[\"Recency\"]"
   ]
  },
  {
   "cell_type": "code",
   "execution_count": null,
   "metadata": {},
   "outputs": [],
   "source": []
  }
 ],
 "metadata": {
  "kernelspec": {
   "display_name": "Python 3",
   "language": "python",
   "name": "python3"
  },
  "language_info": {
   "codemirror_mode": {
    "name": "ipython",
    "version": 3
   },
   "file_extension": ".py",
   "mimetype": "text/x-python",
   "name": "python",
   "nbconvert_exporter": "python",
   "pygments_lexer": "ipython3",
   "version": "3.7.6"
  }
 },
 "nbformat": 4,
 "nbformat_minor": 4
}
