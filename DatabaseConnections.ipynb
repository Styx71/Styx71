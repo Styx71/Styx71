{
 "cells": [
  {
   "cell_type": "markdown",
   "metadata": {},
   "source": [
    "### Database Connections ###"
   ]
  },
  {
   "cell_type": "markdown",
   "metadata": {},
   "source": [
    "### SQL Connection ###"
   ]
  },
  {
   "cell_type": "code",
   "execution_count": 3,
   "metadata": {},
   "outputs": [],
   "source": [
    "import sqlalchemy"
   ]
  },
  {
   "cell_type": "markdown",
   "metadata": {},
   "source": [
    "### Read SQL"
   ]
  },
  {
   "cell_type": "code",
   "execution_count": null,
   "metadata": {},
   "outputs": [],
   "source": [
    "engine = sqlalchemy.create_engine('mssql+pyodbc://{0}:{1}@{2}:1433/{3}?driver=ODBC+Driver+{4}+for+SQL+Server'.format(\"username\",\"password\",\"server\",\"database\",\"sql version\"))\n",
    "df=pd.read_sql(con=engine,\n",
    "                     sql='SQL code here that you want to read')"
   ]
  },
  {
   "cell_type": "markdown",
   "metadata": {},
   "source": [
    "### Writo to SQL"
   ]
  },
  {
   "cell_type": "code",
   "execution_count": null,
   "metadata": {},
   "outputs": [],
   "source": [
    "migros.to_sql(\"table name which you want to append your data\",con=engine,if_exists=\"append\")"
   ]
  },
  {
   "cell_type": "markdown",
   "metadata": {},
   "source": [
    "### SSAS Connection"
   ]
  },
  {
   "cell_type": "code",
   "execution_count": null,
   "metadata": {},
   "outputs": [],
   "source": [
    "from sys import path\n",
    "path.append(r'C:\\Program Files (x86)\\Microsoft.NET\\ADOMD.NET\\110')\n",
    "from pyadomd import Pyadomd\n",
    "from Microsoft.AnalysisServices.AdomdClient import AdomdConnection\n",
    "import pandas as pd"
   ]
  },
  {
   "cell_type": "code",
   "execution_count": null,
   "metadata": {},
   "outputs": [],
   "source": [
    "conn_str = 'Provider=MSOLAP;Data Source=YHKRTL-SQLCMP\\SQLBTS;Catalog=BTS_BI'\n",
    "query=\"\"\"\n",
    "EVALUATE FILTER(Sube,Sube[PlatinumMu]=EVET)\"\"\"\n",
    "\n",
    "with Pyadomd(conn_str) as conn:\n",
    "    with conn.cursor().execute(query) as cur:\n",
    "        a=cur\n",
    "        df=pd.DataFrame(cur.fetchone(),columns=[i.name for i in cur.description])"
   ]
  },
  {
   "cell_type": "markdown",
   "metadata": {},
   "source": [
    "### AS-400 Connection"
   ]
  },
  {
   "cell_type": "code",
   "execution_count": null,
   "metadata": {},
   "outputs": [],
   "source": [
    "import pyodbc"
   ]
  },
  {
   "cell_type": "code",
   "execution_count": null,
   "metadata": {},
   "outputs": [],
   "source": [
    "connection_string = \"DRIVER={iSeries Access ODBC Driver};SYSTEM=10.248.2.254;LANGUAGEID=ENU;PKG=CRMQRY/DEFAULT(IBM),2,0,1,0,512;QRYSTGLMT=-1;UID=GUCLUO;PWD=BTS;\"\n",
    "cnxn = pyodbc.connect(connection_string)"
   ]
  },
  {
   "cell_type": "code",
   "execution_count": null,
   "metadata": {},
   "outputs": [],
   "source": [
    "a=cnxn.cursor().execute(\"SELECT * FROM BTT3400.DAT048.SATSIPPF SATSIPPF WHERE SATSIPPF.STYIL=2020\")"
   ]
  },
  {
   "cell_type": "code",
   "execution_count": null,
   "metadata": {},
   "outputs": [],
   "source": [
    "b=pd.DataFrame({\"Column\":a})"
   ]
  },
  {
   "cell_type": "code",
   "execution_count": null,
   "metadata": {},
   "outputs": [],
   "source": []
  }
 ],
 "metadata": {
  "kernelspec": {
   "display_name": "Python 3",
   "language": "python",
   "name": "python3"
  },
  "language_info": {
   "name": ""
  }
 },
 "nbformat": 4,
 "nbformat_minor": 4
}
