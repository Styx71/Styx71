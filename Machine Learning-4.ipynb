{
 "cells": [
  {
   "cell_type": "code",
   "execution_count": 48,
   "metadata": {},
   "outputs": [],
   "source": [
    "import numpy as np\n",
    "import pandas as pd\n",
    "import matplotlib.pyplot as plt\n",
    "from sklearn import model_selection\n",
    "from sklearn.metrics import mean_squared_error,r2_score\n",
    "from sklearn.linear_model import LinearRegression\n",
    "from sklearn.model_selection import train_test_split, GridSearchCV\n",
    "from sklearn.preprocessing import scale, StandardScaler\n",
    "from sklearn.neighbors import KNeighborsRegressor\n",
    "from sklearn.neural_network import MLPRegressor\n",
    "from sklearn import neighbors\n",
    "from sklearn.ensemble import RandomForestRegressor, GradientBoostingRegressor\n",
    "from sklearn.svm import SVR\n",
    "from sklearn.tree import DecisionTreeRegressor"
   ]
  },
  {
   "cell_type": "code",
   "execution_count": 3,
   "metadata": {},
   "outputs": [],
   "source": [
    "from warnings import filterwarnings\n",
    "filterwarnings(\"ignore\")"
   ]
  },
  {
   "cell_type": "code",
   "execution_count": 22,
   "metadata": {},
   "outputs": [],
   "source": [
    "df = pd.read_csv(\"reading_data/Hitters.csv\")\n",
    "df = df.dropna()\n",
    "df = pd.get_dummies(df,[\"League\",\"Division\",\"NewLeague\"],[\"League_dum\",\"Division_dum\",\"NewLeague_dum\"])"
   ]
  },
  {
   "cell_type": "code",
   "execution_count": 23,
   "metadata": {},
   "outputs": [
    {
     "data": {
      "text/html": [
       "<div>\n",
       "<style scoped>\n",
       "    .dataframe tbody tr th:only-of-type {\n",
       "        vertical-align: middle;\n",
       "    }\n",
       "\n",
       "    .dataframe tbody tr th {\n",
       "        vertical-align: top;\n",
       "    }\n",
       "\n",
       "    .dataframe thead th {\n",
       "        text-align: right;\n",
       "    }\n",
       "</style>\n",
       "<table border=\"1\" class=\"dataframe\">\n",
       "  <thead>\n",
       "    <tr style=\"text-align: right;\">\n",
       "      <th></th>\n",
       "      <th>AtBat</th>\n",
       "      <th>Hits</th>\n",
       "      <th>HmRun</th>\n",
       "      <th>Runs</th>\n",
       "      <th>RBI</th>\n",
       "      <th>Walks</th>\n",
       "      <th>Years</th>\n",
       "      <th>CAtBat</th>\n",
       "      <th>CHits</th>\n",
       "      <th>CHmRun</th>\n",
       "      <th>...</th>\n",
       "      <th>PutOuts</th>\n",
       "      <th>Assists</th>\n",
       "      <th>Errors</th>\n",
       "      <th>Salary</th>\n",
       "      <th>LeagueLeague_dumA</th>\n",
       "      <th>LeagueLeague_dumN</th>\n",
       "      <th>DivisionDivision_dumE</th>\n",
       "      <th>DivisionDivision_dumW</th>\n",
       "      <th>NewLeagueNewLeague_dumA</th>\n",
       "      <th>NewLeagueNewLeague_dumN</th>\n",
       "    </tr>\n",
       "  </thead>\n",
       "  <tbody>\n",
       "    <tr>\n",
       "      <th>1</th>\n",
       "      <td>315</td>\n",
       "      <td>81</td>\n",
       "      <td>7</td>\n",
       "      <td>24</td>\n",
       "      <td>38</td>\n",
       "      <td>39</td>\n",
       "      <td>14</td>\n",
       "      <td>3449</td>\n",
       "      <td>835</td>\n",
       "      <td>69</td>\n",
       "      <td>...</td>\n",
       "      <td>632</td>\n",
       "      <td>43</td>\n",
       "      <td>10</td>\n",
       "      <td>475.0</td>\n",
       "      <td>0</td>\n",
       "      <td>1</td>\n",
       "      <td>0</td>\n",
       "      <td>1</td>\n",
       "      <td>0</td>\n",
       "      <td>1</td>\n",
       "    </tr>\n",
       "    <tr>\n",
       "      <th>2</th>\n",
       "      <td>479</td>\n",
       "      <td>130</td>\n",
       "      <td>18</td>\n",
       "      <td>66</td>\n",
       "      <td>72</td>\n",
       "      <td>76</td>\n",
       "      <td>3</td>\n",
       "      <td>1624</td>\n",
       "      <td>457</td>\n",
       "      <td>63</td>\n",
       "      <td>...</td>\n",
       "      <td>880</td>\n",
       "      <td>82</td>\n",
       "      <td>14</td>\n",
       "      <td>480.0</td>\n",
       "      <td>1</td>\n",
       "      <td>0</td>\n",
       "      <td>0</td>\n",
       "      <td>1</td>\n",
       "      <td>1</td>\n",
       "      <td>0</td>\n",
       "    </tr>\n",
       "    <tr>\n",
       "      <th>3</th>\n",
       "      <td>496</td>\n",
       "      <td>141</td>\n",
       "      <td>20</td>\n",
       "      <td>65</td>\n",
       "      <td>78</td>\n",
       "      <td>37</td>\n",
       "      <td>11</td>\n",
       "      <td>5628</td>\n",
       "      <td>1575</td>\n",
       "      <td>225</td>\n",
       "      <td>...</td>\n",
       "      <td>200</td>\n",
       "      <td>11</td>\n",
       "      <td>3</td>\n",
       "      <td>500.0</td>\n",
       "      <td>0</td>\n",
       "      <td>1</td>\n",
       "      <td>1</td>\n",
       "      <td>0</td>\n",
       "      <td>0</td>\n",
       "      <td>1</td>\n",
       "    </tr>\n",
       "    <tr>\n",
       "      <th>4</th>\n",
       "      <td>321</td>\n",
       "      <td>87</td>\n",
       "      <td>10</td>\n",
       "      <td>39</td>\n",
       "      <td>42</td>\n",
       "      <td>30</td>\n",
       "      <td>2</td>\n",
       "      <td>396</td>\n",
       "      <td>101</td>\n",
       "      <td>12</td>\n",
       "      <td>...</td>\n",
       "      <td>805</td>\n",
       "      <td>40</td>\n",
       "      <td>4</td>\n",
       "      <td>91.5</td>\n",
       "      <td>0</td>\n",
       "      <td>1</td>\n",
       "      <td>1</td>\n",
       "      <td>0</td>\n",
       "      <td>0</td>\n",
       "      <td>1</td>\n",
       "    </tr>\n",
       "    <tr>\n",
       "      <th>5</th>\n",
       "      <td>594</td>\n",
       "      <td>169</td>\n",
       "      <td>4</td>\n",
       "      <td>74</td>\n",
       "      <td>51</td>\n",
       "      <td>35</td>\n",
       "      <td>11</td>\n",
       "      <td>4408</td>\n",
       "      <td>1133</td>\n",
       "      <td>19</td>\n",
       "      <td>...</td>\n",
       "      <td>282</td>\n",
       "      <td>421</td>\n",
       "      <td>25</td>\n",
       "      <td>750.0</td>\n",
       "      <td>1</td>\n",
       "      <td>0</td>\n",
       "      <td>0</td>\n",
       "      <td>1</td>\n",
       "      <td>1</td>\n",
       "      <td>0</td>\n",
       "    </tr>\n",
       "  </tbody>\n",
       "</table>\n",
       "<p>5 rows × 23 columns</p>\n",
       "</div>"
      ],
      "text/plain": [
       "   AtBat  Hits  HmRun  Runs  RBI  Walks  Years  CAtBat  CHits  CHmRun  ...  \\\n",
       "1    315    81      7    24   38     39     14    3449    835      69  ...   \n",
       "2    479   130     18    66   72     76      3    1624    457      63  ...   \n",
       "3    496   141     20    65   78     37     11    5628   1575     225  ...   \n",
       "4    321    87     10    39   42     30      2     396    101      12  ...   \n",
       "5    594   169      4    74   51     35     11    4408   1133      19  ...   \n",
       "\n",
       "   PutOuts  Assists  Errors  Salary  LeagueLeague_dumA  LeagueLeague_dumN  \\\n",
       "1      632       43      10   475.0                  0                  1   \n",
       "2      880       82      14   480.0                  1                  0   \n",
       "3      200       11       3   500.0                  0                  1   \n",
       "4      805       40       4    91.5                  0                  1   \n",
       "5      282      421      25   750.0                  1                  0   \n",
       "\n",
       "   DivisionDivision_dumE  DivisionDivision_dumW  NewLeagueNewLeague_dumA  \\\n",
       "1                      0                      1                        0   \n",
       "2                      0                      1                        1   \n",
       "3                      1                      0                        0   \n",
       "4                      1                      0                        0   \n",
       "5                      0                      1                        1   \n",
       "\n",
       "   NewLeagueNewLeague_dumN  \n",
       "1                        1  \n",
       "2                        0  \n",
       "3                        1  \n",
       "4                        1  \n",
       "5                        0  \n",
       "\n",
       "[5 rows x 23 columns]"
      ]
     },
     "execution_count": 23,
     "metadata": {},
     "output_type": "execute_result"
    }
   ],
   "source": [
    "df.head()"
   ]
  },
  {
   "cell_type": "code",
   "execution_count": 24,
   "metadata": {},
   "outputs": [],
   "source": [
    "X = df.drop([\"Salary\"],axis=1)\n",
    "y = df[\"Salary\"]\n",
    "X_train,X_test,y_train,y_test = train_test_split(X,y, test_size = 0.2)"
   ]
  },
  {
   "cell_type": "markdown",
   "metadata": {},
   "source": [
    "## KNN MODEL"
   ]
  },
  {
   "cell_type": "code",
   "execution_count": 71,
   "metadata": {},
   "outputs": [
    {
     "data": {
      "text/plain": [
       "323.40372790119386"
      ]
     },
     "execution_count": 71,
     "metadata": {},
     "output_type": "execute_result"
    }
   ],
   "source": [
    "model = KNeighborsRegressor().fit(X_train,y_train)\n",
    "y_pred = model.predict(X_test)\n",
    "np.sqrt(mean_squared_error(y_test,y_pred))"
   ]
  },
  {
   "cell_type": "code",
   "execution_count": 72,
   "metadata": {},
   "outputs": [
    {
     "data": {
      "text/plain": [
       "0.41316349312098344"
      ]
     },
     "execution_count": 72,
     "metadata": {},
     "output_type": "execute_result"
    }
   ],
   "source": [
    "r2_score(y_test,y_pred)"
   ]
  },
  {
   "cell_type": "code",
   "execution_count": 10,
   "metadata": {},
   "outputs": [
    {
     "name": "stdout",
     "output_type": "stream",
     "text": [
      "k= 1 için RMSE değeri= 302.2948937463125\n",
      "k= 2 için RMSE değeri= 285.04416783175236\n",
      "k= 3 için RMSE değeri= 274.90375232039355\n",
      "k= 4 için RMSE değeri= 282.1949785402674\n",
      "k= 5 için RMSE değeri= 284.0164295736043\n",
      "k= 6 için RMSE değeri= 303.8404900529691\n",
      "k= 7 için RMSE değeri= 302.669882593793\n",
      "k= 8 için RMSE değeri= 285.5884722120224\n",
      "k= 9 için RMSE değeri= 295.020526376955\n",
      "k= 10 için RMSE değeri= 288.3110513778556\n"
     ]
    }
   ],
   "source": [
    "RMSE =[]\n",
    "for k in range(0,10):\n",
    "    k = k+1\n",
    "    model = KNeighborsRegressor(n_neighbors=k).fit(X_train,y_train)\n",
    "    y_pred = model.predict(X_test)\n",
    "    RMSE.append(np.sqrt(mean_squared_error(y_test,y_pred)))\n",
    "    print(\"k=\",k,\"için RMSE değeri=\",np.sqrt(mean_squared_error(y_test,y_pred)) )"
   ]
  },
  {
   "cell_type": "markdown",
   "metadata": {},
   "source": [
    "## GridSearchCV"
   ]
  },
  {
   "cell_type": "code",
   "execution_count": 11,
   "metadata": {},
   "outputs": [],
   "source": [
    "knn_params = {\"n_neighbors\": np.arange(1,30,1)}\n",
    "knn_model = KNeighborsRegressor()\n",
    "knn_cv = GridSearchCV(knn_model,knn_params , cv =10).fit(X_train,y_train)"
   ]
  },
  {
   "cell_type": "code",
   "execution_count": 12,
   "metadata": {},
   "outputs": [
    {
     "data": {
      "text/plain": [
       "{'n_neighbors': 3}"
      ]
     },
     "execution_count": 12,
     "metadata": {},
     "output_type": "execute_result"
    }
   ],
   "source": [
    "knn_cv.best_params_"
   ]
  },
  {
   "cell_type": "code",
   "execution_count": 13,
   "metadata": {},
   "outputs": [
    {
     "data": {
      "text/plain": [
       "274.90375232039355"
      ]
     },
     "execution_count": 13,
     "metadata": {},
     "output_type": "execute_result"
    }
   ],
   "source": [
    "knn_model = KNeighborsRegressor(n_neighbors=knn_cv.best_params_[\"n_neighbors\"]).fit(X_train,y_train)\n",
    "y_pred = knn_model.predict(X_test)\n",
    "np.sqrt(mean_squared_error(y_test,y_pred))"
   ]
  },
  {
   "cell_type": "code",
   "execution_count": 14,
   "metadata": {},
   "outputs": [
    {
     "data": {
      "text/plain": [
       "0.595619073111869"
      ]
     },
     "execution_count": 14,
     "metadata": {},
     "output_type": "execute_result"
    }
   ],
   "source": [
    "r2_score(y_test,y_pred)"
   ]
  },
  {
   "cell_type": "markdown",
   "metadata": {},
   "source": [
    "## SVM"
   ]
  },
  {
   "cell_type": "code",
   "execution_count": 76,
   "metadata": {},
   "outputs": [
    {
     "data": {
      "text/plain": [
       "SVR(C=1.0, cache_size=200, coef0=0.0, degree=3, epsilon=0.1, gamma='scale',\n",
       "    kernel='linear', max_iter=-1, shrinking=True, tol=0.001, verbose=False)"
      ]
     },
     "execution_count": 76,
     "metadata": {},
     "output_type": "execute_result"
    }
   ],
   "source": [
    "svr_model = SVR(\"linear\")\n",
    "svr_model.fit(X_train,y_train)"
   ]
  },
  {
   "cell_type": "code",
   "execution_count": 79,
   "metadata": {},
   "outputs": [
    {
     "data": {
      "text/plain": [
       "338.4515549536238"
      ]
     },
     "execution_count": 79,
     "metadata": {},
     "output_type": "execute_result"
    }
   ],
   "source": [
    "y_pred = svr_model.predict(X_test)\n",
    "np.sqrt(mean_squared_error(y_test,y_pred))"
   ]
  },
  {
   "cell_type": "code",
   "execution_count": 80,
   "metadata": {},
   "outputs": [
    {
     "data": {
      "text/plain": [
       "-0.13331939089699896"
      ]
     },
     "execution_count": 80,
     "metadata": {},
     "output_type": "execute_result"
    }
   ],
   "source": [
    "r2_score(y_test,y_pred)"
   ]
  },
  {
   "cell_type": "code",
   "execution_count": 19,
   "metadata": {},
   "outputs": [
    {
     "name": "stdout",
     "output_type": "stream",
     "text": [
      "Fitting 10 folds for each of 6 candidates, totalling 60 fits\n"
     ]
    },
    {
     "name": "stderr",
     "output_type": "stream",
     "text": [
      "[Parallel(n_jobs=-1)]: Using backend LokyBackend with 4 concurrent workers.\n",
      "[Parallel(n_jobs=-1)]: Done  33 tasks      | elapsed:  2.4min\n",
      "[Parallel(n_jobs=-1)]: Done  60 out of  60 | elapsed:  2.4min finished\n"
     ]
    }
   ],
   "source": [
    "svr_params = {\"C\": [1,0.5,0.1,0.01,0.001,0.0005]}\n",
    "svr_cv = GridSearchCV(svr_model,svr_params,cv =10, verbose=2,n_jobs=-1).fit(X_train,y_train)"
   ]
  },
  {
   "cell_type": "code",
   "execution_count": 20,
   "metadata": {},
   "outputs": [
    {
     "data": {
      "text/plain": [
       "{'C': 0.001}"
      ]
     },
     "execution_count": 20,
     "metadata": {},
     "output_type": "execute_result"
    }
   ],
   "source": [
    "svr_cv.best_params_"
   ]
  },
  {
   "cell_type": "code",
   "execution_count": 21,
   "metadata": {},
   "outputs": [
    {
     "data": {
      "text/plain": [
       "SVR(C=0.001, cache_size=200, coef0=0.0, degree=3, epsilon=0.1, gamma='scale',\n",
       "    kernel='linear', max_iter=-1, shrinking=True, tol=0.001, verbose=False)"
      ]
     },
     "execution_count": 21,
     "metadata": {},
     "output_type": "execute_result"
    }
   ],
   "source": [
    "svr_model = SVR(\"linear\",C=0.001)\n",
    "svr_model.fit(X_train,y_train)"
   ]
  },
  {
   "cell_type": "code",
   "execution_count": 22,
   "metadata": {},
   "outputs": [
    {
     "data": {
      "text/plain": [
       "329.0480592749908"
      ]
     },
     "execution_count": 22,
     "metadata": {},
     "output_type": "execute_result"
    }
   ],
   "source": [
    "y_pred = svr_model.predict(X_test)\n",
    "np.sqrt(mean_squared_error(y_test,y_pred))"
   ]
  },
  {
   "cell_type": "code",
   "execution_count": 23,
   "metadata": {},
   "outputs": [
    {
     "data": {
      "text/plain": [
       "0.43127559311335306"
      ]
     },
     "execution_count": 23,
     "metadata": {},
     "output_type": "execute_result"
    }
   ],
   "source": [
    "r2_score(y_test,y_pred)"
   ]
  },
  {
   "cell_type": "markdown",
   "metadata": {},
   "source": [
    "## YAPAY SİNİR AĞLARI"
   ]
  },
  {
   "cell_type": "code",
   "execution_count": 84,
   "metadata": {},
   "outputs": [],
   "source": [
    "scaler = StandardScaler()\n",
    "scaler.fit(X_train)\n",
    "X_train_scaled = scaler.transform(X_train)\n",
    "scaler.fit(X_test)\n",
    "X_test_scaled = scaler.transform(X_test)"
   ]
  },
  {
   "cell_type": "code",
   "execution_count": 85,
   "metadata": {},
   "outputs": [
    {
     "data": {
      "text/plain": [
       "MLPRegressor(activation='relu', alpha=0.0001, batch_size='auto', beta_1=0.9,\n",
       "             beta_2=0.999, early_stopping=False, epsilon=1e-08,\n",
       "             hidden_layer_sizes=(100,), learning_rate='constant',\n",
       "             learning_rate_init=0.001, max_fun=15000, max_iter=200,\n",
       "             momentum=0.9, n_iter_no_change=10, nesterovs_momentum=True,\n",
       "             power_t=0.5, random_state=None, shuffle=True, solver='adam',\n",
       "             tol=0.0001, validation_fraction=0.1, verbose=False,\n",
       "             warm_start=False)"
      ]
     },
     "execution_count": 85,
     "metadata": {},
     "output_type": "execute_result"
    }
   ],
   "source": [
    "NN_model = MLPRegressor()\n",
    "NN_model.fit(X_train_scaled,y_train)"
   ]
  },
  {
   "cell_type": "code",
   "execution_count": 86,
   "metadata": {},
   "outputs": [
    {
     "data": {
      "text/plain": [
       "637.6361161197352"
      ]
     },
     "execution_count": 86,
     "metadata": {},
     "output_type": "execute_result"
    }
   ],
   "source": [
    "y_pred = NN_model.predict(X_test_scaled)\n",
    "np.sqrt(mean_squared_error(y_test,y_pred))"
   ]
  },
  {
   "cell_type": "code",
   "execution_count": 87,
   "metadata": {},
   "outputs": [
    {
     "data": {
      "text/plain": [
       "-0.9416450018964124"
      ]
     },
     "execution_count": 87,
     "metadata": {},
     "output_type": "execute_result"
    }
   ],
   "source": [
    "r2_score(y_test,y_pred)"
   ]
  },
  {
   "cell_type": "code",
   "execution_count": 31,
   "metadata": {},
   "outputs": [
    {
     "name": "stdout",
     "output_type": "stream",
     "text": [
      "Fitting 10 folds for each of 12 candidates, totalling 120 fits\n"
     ]
    },
    {
     "name": "stderr",
     "output_type": "stream",
     "text": [
      "[Parallel(n_jobs=-1)]: Using backend LokyBackend with 4 concurrent workers.\n",
      "[Parallel(n_jobs=-1)]: Done  33 tasks      | elapsed:   11.0s\n",
      "[Parallel(n_jobs=-1)]: Done 120 out of 120 | elapsed:   32.1s finished\n"
     ]
    }
   ],
   "source": [
    "NN_params = {\"alpha\":[1,0.1,0.01,0.001],\"hidden_layer_sizes\":[(10,10),(30,30),(100,100)]}\n",
    "NN_cv = GridSearchCV(NN_model,NN_params,cv=10,verbose=2,n_jobs=-1).fit(X_train_scaled,y_train)"
   ]
  },
  {
   "cell_type": "code",
   "execution_count": 32,
   "metadata": {},
   "outputs": [
    {
     "data": {
      "text/plain": [
       "{'alpha': 0.1, 'hidden_layer_sizes': (100, 100)}"
      ]
     },
     "execution_count": 32,
     "metadata": {},
     "output_type": "execute_result"
    }
   ],
   "source": [
    "NN_cv.best_params_"
   ]
  },
  {
   "cell_type": "code",
   "execution_count": 96,
   "metadata": {},
   "outputs": [
    {
     "data": {
      "text/plain": [
       "391.3913204596654"
      ]
     },
     "execution_count": 96,
     "metadata": {},
     "output_type": "execute_result"
    }
   ],
   "source": [
    "NN_model = MLPRegressor(alpha=0.1,hidden_layer_sizes=(100, 100))\n",
    "NN_model.fit(X_train_scaled,y_train)\n",
    "y_pred = NN_model.predict(X_test_scaled)\n",
    "np.sqrt(mean_squared_error(y_test,y_pred))"
   ]
  },
  {
   "cell_type": "code",
   "execution_count": 97,
   "metadata": {},
   "outputs": [
    {
     "data": {
      "text/plain": [
       "0.024969204353445074"
      ]
     },
     "execution_count": 97,
     "metadata": {},
     "output_type": "execute_result"
    }
   ],
   "source": [
    "r2_score(y_test,y_pred)"
   ]
  },
  {
   "cell_type": "markdown",
   "metadata": {},
   "source": [
    "## CART"
   ]
  },
  {
   "cell_type": "code",
   "execution_count": 101,
   "metadata": {},
   "outputs": [],
   "source": [
    "# Classification and Regression Tree\n",
    "cart_model = DecisionTreeRegressor().fit(X_train,y_train)"
   ]
  },
  {
   "cell_type": "code",
   "execution_count": 102,
   "metadata": {},
   "outputs": [
    {
     "data": {
      "text/plain": [
       "395.27910897837216"
      ]
     },
     "execution_count": 102,
     "metadata": {},
     "output_type": "execute_result"
    }
   ],
   "source": [
    "y_pred = cart_model.predict(X_test)\n",
    "np.sqrt(mean_squared_error(y_test,y_pred))"
   ]
  },
  {
   "cell_type": "code",
   "execution_count": 103,
   "metadata": {},
   "outputs": [
    {
     "data": {
      "text/plain": [
       "0.3374080895144158"
      ]
     },
     "execution_count": 103,
     "metadata": {},
     "output_type": "execute_result"
    }
   ],
   "source": [
    "r2_score(y_test,y_pred)"
   ]
  },
  {
   "cell_type": "code",
   "execution_count": 23,
   "metadata": {},
   "outputs": [
    {
     "name": "stdout",
     "output_type": "stream",
     "text": [
      "Fitting 10 folds for each of 2000 candidates, totalling 20000 fits\n"
     ]
    },
    {
     "name": "stderr",
     "output_type": "stream",
     "text": [
      "[Parallel(n_jobs=-1)]: Using backend LokyBackend with 4 concurrent workers.\n",
      "[Parallel(n_jobs=-1)]: Done 136 tasks      | elapsed:    0.6s\n",
      "[Parallel(n_jobs=-1)]: Done 2072 tasks      | elapsed:    6.6s\n",
      "[Parallel(n_jobs=-1)]: Done 5320 tasks      | elapsed:   16.8s\n",
      "[Parallel(n_jobs=-1)]: Done 9848 tasks      | elapsed:   31.4s\n",
      "[Parallel(n_jobs=-1)]: Done 15688 tasks      | elapsed:   50.3s\n",
      "[Parallel(n_jobs=-1)]: Done 20000 out of 20000 | elapsed:  1.1min finished\n"
     ]
    }
   ],
   "source": [
    "cart_params = {\"max_depth\":np.arange(1,51),\"min_samples_split\":np.arange(1,41)}\n",
    "cart_cv = GridSearchCV(cart_model,cart_params,cv=10,verbose =2, n_jobs=-1).fit(X_train,y_train)"
   ]
  },
  {
   "cell_type": "code",
   "execution_count": 55,
   "metadata": {},
   "outputs": [
    {
     "data": {
      "text/plain": [
       "{'max_depth': 7, 'min_samples_split': 21}"
      ]
     },
     "execution_count": 55,
     "metadata": {},
     "output_type": "execute_result"
    }
   ],
   "source": [
    "cart_cv.best_params_"
   ]
  },
  {
   "cell_type": "code",
   "execution_count": 46,
   "metadata": {},
   "outputs": [
    {
     "data": {
      "text/plain": [
       "273.8791108411931"
      ]
     },
     "execution_count": 46,
     "metadata": {},
     "output_type": "execute_result"
    }
   ],
   "source": [
    "cart_model = DecisionTreeRegressor(max_depth=10,min_samples_split=11).fit(X_train,y_train)\n",
    "y_pred = cart_model.predict(X_test)\n",
    "np.sqrt(mean_squared_error(y_test,y_pred))"
   ]
  },
  {
   "cell_type": "code",
   "execution_count": 50,
   "metadata": {},
   "outputs": [
    {
     "data": {
      "text/plain": [
       "0.512031863889143"
      ]
     },
     "execution_count": 50,
     "metadata": {},
     "output_type": "execute_result"
    }
   ],
   "source": [
    "r2_score(y_test,y_pred)"
   ]
  },
  {
   "cell_type": "markdown",
   "metadata": {},
   "source": [
    "## Random Forests"
   ]
  },
  {
   "cell_type": "code",
   "execution_count": 107,
   "metadata": {},
   "outputs": [
    {
     "data": {
      "text/plain": [
       "389.575685852801"
      ]
     },
     "execution_count": 107,
     "metadata": {},
     "output_type": "execute_result"
    }
   ],
   "source": [
    "random_model = RandomForestRegressor().fit(X_train,y_train)\n",
    "y_pred = random_model.predict(X_test)\n",
    "np.sqrt(mean_squared_error(y_test,y_pred))"
   ]
  },
  {
   "cell_type": "code",
   "execution_count": 108,
   "metadata": {},
   "outputs": [
    {
     "data": {
      "text/plain": [
       "0.5045241698781977"
      ]
     },
     "execution_count": 108,
     "metadata": {},
     "output_type": "execute_result"
    }
   ],
   "source": [
    "r2_score(y_test,y_pred)"
   ]
  },
  {
   "cell_type": "code",
   "execution_count": 61,
   "metadata": {},
   "outputs": [
    {
     "name": "stdout",
     "output_type": "stream",
     "text": [
      "Fitting 10 folds for each of 360 candidates, totalling 3600 fits\n"
     ]
    },
    {
     "name": "stderr",
     "output_type": "stream",
     "text": [
      "[Parallel(n_jobs=-1)]: Using backend LokyBackend with 4 concurrent workers.\n",
      "[Parallel(n_jobs=-1)]: Done  33 tasks      | elapsed:    4.8s\n",
      "[Parallel(n_jobs=-1)]: Done 154 tasks      | elapsed:   50.6s\n",
      "[Parallel(n_jobs=-1)]: Done 357 tasks      | elapsed:  2.3min\n",
      "[Parallel(n_jobs=-1)]: Done 640 tasks      | elapsed:  3.8min\n",
      "[Parallel(n_jobs=-1)]: Done 1005 tasks      | elapsed:  6.2min\n",
      "[Parallel(n_jobs=-1)]: Done 1450 tasks      | elapsed:  9.1min\n",
      "[Parallel(n_jobs=-1)]: Done 1977 tasks      | elapsed: 13.1min\n",
      "[Parallel(n_jobs=-1)]: Done 2584 tasks      | elapsed: 17.2min\n",
      "[Parallel(n_jobs=-1)]: Done 3273 tasks      | elapsed: 22.3min\n",
      "[Parallel(n_jobs=-1)]: Done 3600 out of 3600 | elapsed: 24.7min finished\n"
     ]
    }
   ],
   "source": [
    "random_params={\"max_depth\":[3,5,10,15,20],\"min_samples_split\":[2,3,5,8,10,15,20,30],\"n_estimators\":[10,30,50,100,150,300,500,750,1000]}\n",
    "random_cv = GridSearchCV(random_model,random_params,cv=10,n_jobs=-1,verbose=2).fit(X_train,y_train)"
   ]
  },
  {
   "cell_type": "code",
   "execution_count": 63,
   "metadata": {},
   "outputs": [
    {
     "data": {
      "text/plain": [
       "{'max_depth': 15, 'min_samples_split': 30, 'n_estimators': 50}"
      ]
     },
     "execution_count": 63,
     "metadata": {},
     "output_type": "execute_result"
    }
   ],
   "source": [
    "random_cv.best_params_"
   ]
  },
  {
   "cell_type": "code",
   "execution_count": 112,
   "metadata": {},
   "outputs": [
    {
     "data": {
      "text/plain": [
       "205.0470888226582"
      ]
     },
     "execution_count": 112,
     "metadata": {},
     "output_type": "execute_result"
    }
   ],
   "source": [
    "random_model = RandomForestRegressor(max_depth=15,min_samples_split=30,n_estimators=50).fit(X_train,y_train)\n",
    "y_pred = random_model.predict(X_test)\n",
    "np.sqrt(mean_squared_error(y_test,y_pred))"
   ]
  },
  {
   "cell_type": "code",
   "execution_count": 113,
   "metadata": {},
   "outputs": [
    {
     "data": {
      "text/plain": [
       "0.547313913240786"
      ]
     },
     "execution_count": 113,
     "metadata": {},
     "output_type": "execute_result"
    }
   ],
   "source": [
    "r2_score(y_test,y_pred)"
   ]
  },
  {
   "cell_type": "markdown",
   "metadata": {},
   "source": [
    "## Değişken Önem Düzeyi"
   ]
  },
  {
   "cell_type": "code",
   "execution_count": 137,
   "metadata": {},
   "outputs": [],
   "source": [
    "importance= pd.DataFrame({\"importance\":random_model.fit(X_train,y_train).feature_importances_*100},index=X_train.columns)"
   ]
  },
  {
   "cell_type": "code",
   "execution_count": 153,
   "metadata": {},
   "outputs": [
    {
     "data": {
      "text/html": [
       "<div>\n",
       "<style scoped>\n",
       "    .dataframe tbody tr th:only-of-type {\n",
       "        vertical-align: middle;\n",
       "    }\n",
       "\n",
       "    .dataframe tbody tr th {\n",
       "        vertical-align: top;\n",
       "    }\n",
       "\n",
       "    .dataframe thead th {\n",
       "        text-align: right;\n",
       "    }\n",
       "</style>\n",
       "<table border=\"1\" class=\"dataframe\">\n",
       "  <thead>\n",
       "    <tr style=\"text-align: right;\">\n",
       "      <th></th>\n",
       "      <th>importance</th>\n",
       "    </tr>\n",
       "  </thead>\n",
       "  <tbody>\n",
       "    <tr>\n",
       "      <th>CRBI</th>\n",
       "      <td>24.129728</td>\n",
       "    </tr>\n",
       "    <tr>\n",
       "      <th>CHits</th>\n",
       "      <td>21.510907</td>\n",
       "    </tr>\n",
       "    <tr>\n",
       "      <th>Walks</th>\n",
       "      <td>15.423745</td>\n",
       "    </tr>\n",
       "    <tr>\n",
       "      <th>CRuns</th>\n",
       "      <td>8.727567</td>\n",
       "    </tr>\n",
       "    <tr>\n",
       "      <th>PutOuts</th>\n",
       "      <td>8.180929</td>\n",
       "    </tr>\n",
       "    <tr>\n",
       "      <th>CAtBat</th>\n",
       "      <td>4.208657</td>\n",
       "    </tr>\n",
       "    <tr>\n",
       "      <th>Hits</th>\n",
       "      <td>3.838415</td>\n",
       "    </tr>\n",
       "    <tr>\n",
       "      <th>RBI</th>\n",
       "      <td>3.553294</td>\n",
       "    </tr>\n",
       "    <tr>\n",
       "      <th>AtBat</th>\n",
       "      <td>2.919724</td>\n",
       "    </tr>\n",
       "    <tr>\n",
       "      <th>Runs</th>\n",
       "      <td>2.221492</td>\n",
       "    </tr>\n",
       "    <tr>\n",
       "      <th>HmRun</th>\n",
       "      <td>2.053179</td>\n",
       "    </tr>\n",
       "    <tr>\n",
       "      <th>CHmRun</th>\n",
       "      <td>1.555300</td>\n",
       "    </tr>\n",
       "    <tr>\n",
       "      <th>CWalks</th>\n",
       "      <td>0.983552</td>\n",
       "    </tr>\n",
       "    <tr>\n",
       "      <th>Assists</th>\n",
       "      <td>0.292385</td>\n",
       "    </tr>\n",
       "    <tr>\n",
       "      <th>Years</th>\n",
       "      <td>0.233203</td>\n",
       "    </tr>\n",
       "    <tr>\n",
       "      <th>Errors</th>\n",
       "      <td>0.167924</td>\n",
       "    </tr>\n",
       "    <tr>\n",
       "      <th>LeagueLeague_dumA</th>\n",
       "      <td>0.000000</td>\n",
       "    </tr>\n",
       "    <tr>\n",
       "      <th>LeagueLeague_dumN</th>\n",
       "      <td>0.000000</td>\n",
       "    </tr>\n",
       "    <tr>\n",
       "      <th>DivisionDivision_dumE</th>\n",
       "      <td>0.000000</td>\n",
       "    </tr>\n",
       "    <tr>\n",
       "      <th>DivisionDivision_dumW</th>\n",
       "      <td>0.000000</td>\n",
       "    </tr>\n",
       "    <tr>\n",
       "      <th>NewLeagueNewLeague_dumA</th>\n",
       "      <td>0.000000</td>\n",
       "    </tr>\n",
       "    <tr>\n",
       "      <th>NewLeagueNewLeague_dumN</th>\n",
       "      <td>0.000000</td>\n",
       "    </tr>\n",
       "  </tbody>\n",
       "</table>\n",
       "</div>"
      ],
      "text/plain": [
       "                         importance\n",
       "CRBI                      24.129728\n",
       "CHits                     21.510907\n",
       "Walks                     15.423745\n",
       "CRuns                      8.727567\n",
       "PutOuts                    8.180929\n",
       "CAtBat                     4.208657\n",
       "Hits                       3.838415\n",
       "RBI                        3.553294\n",
       "AtBat                      2.919724\n",
       "Runs                       2.221492\n",
       "HmRun                      2.053179\n",
       "CHmRun                     1.555300\n",
       "CWalks                     0.983552\n",
       "Assists                    0.292385\n",
       "Years                      0.233203\n",
       "Errors                     0.167924\n",
       "LeagueLeague_dumA          0.000000\n",
       "LeagueLeague_dumN          0.000000\n",
       "DivisionDivision_dumE      0.000000\n",
       "DivisionDivision_dumW      0.000000\n",
       "NewLeagueNewLeague_dumA    0.000000\n",
       "NewLeagueNewLeague_dumN    0.000000"
      ]
     },
     "execution_count": 153,
     "metadata": {},
     "output_type": "execute_result"
    }
   ],
   "source": [
    "importance.sort_values(by=\"importance\",axis=0,ascending=False)"
   ]
  },
  {
   "cell_type": "code",
   "execution_count": 151,
   "metadata": {},
   "outputs": [
    {
     "data": {
      "text/html": [
       "<div>\n",
       "<style scoped>\n",
       "    .dataframe tbody tr th:only-of-type {\n",
       "        vertical-align: middle;\n",
       "    }\n",
       "\n",
       "    .dataframe tbody tr th {\n",
       "        vertical-align: top;\n",
       "    }\n",
       "\n",
       "    .dataframe thead th {\n",
       "        text-align: right;\n",
       "    }\n",
       "</style>\n",
       "<table border=\"1\" class=\"dataframe\">\n",
       "  <thead>\n",
       "    <tr style=\"text-align: right;\">\n",
       "      <th></th>\n",
       "      <th>importance</th>\n",
       "    </tr>\n",
       "  </thead>\n",
       "  <tbody>\n",
       "    <tr>\n",
       "      <th>AtBat</th>\n",
       "      <td>2.919724</td>\n",
       "    </tr>\n",
       "    <tr>\n",
       "      <th>Hits</th>\n",
       "      <td>3.838415</td>\n",
       "    </tr>\n",
       "    <tr>\n",
       "      <th>HmRun</th>\n",
       "      <td>2.053179</td>\n",
       "    </tr>\n",
       "    <tr>\n",
       "      <th>Runs</th>\n",
       "      <td>2.221492</td>\n",
       "    </tr>\n",
       "    <tr>\n",
       "      <th>RBI</th>\n",
       "      <td>3.553294</td>\n",
       "    </tr>\n",
       "    <tr>\n",
       "      <th>Walks</th>\n",
       "      <td>15.423745</td>\n",
       "    </tr>\n",
       "    <tr>\n",
       "      <th>Years</th>\n",
       "      <td>0.233203</td>\n",
       "    </tr>\n",
       "    <tr>\n",
       "      <th>CAtBat</th>\n",
       "      <td>4.208657</td>\n",
       "    </tr>\n",
       "    <tr>\n",
       "      <th>CHits</th>\n",
       "      <td>21.510907</td>\n",
       "    </tr>\n",
       "    <tr>\n",
       "      <th>CHmRun</th>\n",
       "      <td>1.555300</td>\n",
       "    </tr>\n",
       "    <tr>\n",
       "      <th>CRuns</th>\n",
       "      <td>8.727567</td>\n",
       "    </tr>\n",
       "    <tr>\n",
       "      <th>CRBI</th>\n",
       "      <td>24.129728</td>\n",
       "    </tr>\n",
       "    <tr>\n",
       "      <th>CWalks</th>\n",
       "      <td>0.983552</td>\n",
       "    </tr>\n",
       "    <tr>\n",
       "      <th>PutOuts</th>\n",
       "      <td>8.180929</td>\n",
       "    </tr>\n",
       "    <tr>\n",
       "      <th>Assists</th>\n",
       "      <td>0.292385</td>\n",
       "    </tr>\n",
       "    <tr>\n",
       "      <th>Errors</th>\n",
       "      <td>0.167924</td>\n",
       "    </tr>\n",
       "    <tr>\n",
       "      <th>LeagueLeague_dumA</th>\n",
       "      <td>0.000000</td>\n",
       "    </tr>\n",
       "    <tr>\n",
       "      <th>LeagueLeague_dumN</th>\n",
       "      <td>0.000000</td>\n",
       "    </tr>\n",
       "    <tr>\n",
       "      <th>DivisionDivision_dumE</th>\n",
       "      <td>0.000000</td>\n",
       "    </tr>\n",
       "    <tr>\n",
       "      <th>DivisionDivision_dumW</th>\n",
       "      <td>0.000000</td>\n",
       "    </tr>\n",
       "    <tr>\n",
       "      <th>NewLeagueNewLeague_dumA</th>\n",
       "      <td>0.000000</td>\n",
       "    </tr>\n",
       "    <tr>\n",
       "      <th>NewLeagueNewLeague_dumN</th>\n",
       "      <td>0.000000</td>\n",
       "    </tr>\n",
       "  </tbody>\n",
       "</table>\n",
       "</div>"
      ],
      "text/plain": [
       "                         importance\n",
       "AtBat                      2.919724\n",
       "Hits                       3.838415\n",
       "HmRun                      2.053179\n",
       "Runs                       2.221492\n",
       "RBI                        3.553294\n",
       "Walks                     15.423745\n",
       "Years                      0.233203\n",
       "CAtBat                     4.208657\n",
       "CHits                     21.510907\n",
       "CHmRun                     1.555300\n",
       "CRuns                      8.727567\n",
       "CRBI                      24.129728\n",
       "CWalks                     0.983552\n",
       "PutOuts                    8.180929\n",
       "Assists                    0.292385\n",
       "Errors                     0.167924\n",
       "LeagueLeague_dumA          0.000000\n",
       "LeagueLeague_dumN          0.000000\n",
       "DivisionDivision_dumE      0.000000\n",
       "DivisionDivision_dumW      0.000000\n",
       "NewLeagueNewLeague_dumA    0.000000\n",
       "NewLeagueNewLeague_dumN    0.000000"
      ]
     },
     "execution_count": 151,
     "metadata": {},
     "output_type": "execute_result"
    }
   ],
   "source": [
    "importance"
   ]
  },
  {
   "cell_type": "markdown",
   "metadata": {},
   "source": [
    "## Gradient Boosting Machines"
   ]
  },
  {
   "cell_type": "code",
   "execution_count": 24,
   "metadata": {},
   "outputs": [
    {
     "data": {
      "text/plain": [
       "248.72619224162963"
      ]
     },
     "execution_count": 24,
     "metadata": {},
     "output_type": "execute_result"
    }
   ],
   "source": [
    "gbm_model = GradientBoostingRegressor().fit(X_train,y_train)\n",
    "y_pred= gbm_model.predict(X_test)\n",
    "np.sqrt(mean_squared_error(y_test,y_pred))"
   ]
  },
  {
   "cell_type": "code",
   "execution_count": 25,
   "metadata": {},
   "outputs": [
    {
     "data": {
      "text/plain": [
       "0.5190005526621599"
      ]
     },
     "execution_count": 25,
     "metadata": {},
     "output_type": "execute_result"
    }
   ],
   "source": [
    "r2_score(y_test,y_pred)"
   ]
  },
  {
   "cell_type": "code",
   "execution_count": 158,
   "metadata": {},
   "outputs": [
    {
     "data": {
      "text/plain": [
       "GradientBoostingRegressor(alpha=0.9, ccp_alpha=0.0, criterion='friedman_mse',\n",
       "                          init=None, learning_rate=0.1, loss='ls', max_depth=3,\n",
       "                          max_features=None, max_leaf_nodes=None,\n",
       "                          min_impurity_decrease=0.0, min_impurity_split=None,\n",
       "                          min_samples_leaf=1, min_samples_split=2,\n",
       "                          min_weight_fraction_leaf=0.0, n_estimators=100,\n",
       "                          n_iter_no_change=None, presort='deprecated',\n",
       "                          random_state=None, subsample=1.0, tol=0.0001,\n",
       "                          validation_fraction=0.1, verbose=0, warm_start=False)"
      ]
     },
     "execution_count": 158,
     "metadata": {},
     "output_type": "execute_result"
    }
   ],
   "source": [
    "gbm_model"
   ]
  },
  {
   "cell_type": "code",
   "execution_count": 38,
   "metadata": {},
   "outputs": [
    {
     "name": "stdout",
     "output_type": "stream",
     "text": [
      "Fitting 10 folds for each of 576 candidates, totalling 5760 fits\n"
     ]
    },
    {
     "name": "stderr",
     "output_type": "stream",
     "text": [
      "[Parallel(n_jobs=-1)]: Using backend LokyBackend with 4 concurrent workers.\n",
      "[Parallel(n_jobs=-1)]: Done  33 tasks      | elapsed:    3.7s\n",
      "[Parallel(n_jobs=-1)]: Done 1858 tasks      | elapsed:   48.8s\n",
      "[Parallel(n_jobs=-1)]: Done 2061 tasks      | elapsed:  1.2min\n",
      "[Parallel(n_jobs=-1)]: Done 2344 tasks      | elapsed:  1.8min\n",
      "[Parallel(n_jobs=-1)]: Done 2709 tasks      | elapsed:  2.6min\n",
      "[Parallel(n_jobs=-1)]: Done 3154 tasks      | elapsed:  3.4min\n",
      "[Parallel(n_jobs=-1)]: Done 3681 tasks      | elapsed:  4.5min\n",
      "[Parallel(n_jobs=-1)]: Done 4288 tasks      | elapsed:  5.9min\n",
      "[Parallel(n_jobs=-1)]: Done 4977 tasks      | elapsed:  7.3min\n",
      "[Parallel(n_jobs=-1)]: Done 5746 tasks      | elapsed:  9.2min\n",
      "[Parallel(n_jobs=-1)]: Done 5760 out of 5760 | elapsed:  9.3min finished\n"
     ]
    }
   ],
   "source": [
    "gbm_params={\"alpha\":[10,0.1,0.01,0.001],\"learning_rate\":[1,0.1,0.01,0.001],\"min_samples_leaf\":[1,3,5],\"min_samples_split\":[2,4,5,10],\"n_estimators\":[100,200,500]}\n",
    "gbm_cv = GridSearchCV(gbm_model,gbm_params,cv=10,verbose=2,n_jobs=-1).fit(X_train,y_train)"
   ]
  },
  {
   "cell_type": "code",
   "execution_count": 39,
   "metadata": {},
   "outputs": [
    {
     "data": {
      "text/plain": [
       "{'alpha': 0.01,\n",
       " 'learning_rate': 0.01,\n",
       " 'min_samples_leaf': 1,\n",
       " 'min_samples_split': 5,\n",
       " 'n_estimators': 500}"
      ]
     },
     "execution_count": 39,
     "metadata": {},
     "output_type": "execute_result"
    }
   ],
   "source": [
    "gbm_cv.best_params_"
   ]
  },
  {
   "cell_type": "code",
   "execution_count": 40,
   "metadata": {},
   "outputs": [
    {
     "data": {
      "text/plain": [
       "230.4473650456836"
      ]
     },
     "execution_count": 40,
     "metadata": {},
     "output_type": "execute_result"
    }
   ],
   "source": [
    "gbm_model = GradientBoostingRegressor(alpha= 0.01,\n",
    " learning_rate= 0.01,\n",
    " min_samples_leaf= 1,\n",
    " min_samples_split= 5,\n",
    " n_estimators= 500).fit(X_train,y_train)\n",
    "y_pred= gbm_model.predict(X_test)\n",
    "np.sqrt(mean_squared_error(y_test,y_pred))"
   ]
  },
  {
   "cell_type": "code",
   "execution_count": 41,
   "metadata": {},
   "outputs": [
    {
     "data": {
      "text/plain": [
       "0.5870998617729569"
      ]
     },
     "execution_count": 41,
     "metadata": {},
     "output_type": "execute_result"
    }
   ],
   "source": [
    "r2_score(y_test,y_pred)"
   ]
  },
  {
   "cell_type": "markdown",
   "metadata": {},
   "source": [
    "## XGBoost"
   ]
  },
  {
   "cell_type": "code",
   "execution_count": 6,
   "metadata": {},
   "outputs": [
    {
     "name": "stdout",
     "output_type": "stream",
     "text": [
      "Collecting xgboost\n",
      "  Downloading xgboost-1.0.2-py3-none-win_amd64.whl (24.6 MB)\n",
      "Requirement already satisfied: scipy in c:\\users\\darak\\anaconda3\\lib\\site-packages (from xgboost) (1.4.1)\n",
      "Requirement already satisfied: numpy in c:\\users\\darak\\anaconda3\\lib\\site-packages (from xgboost) (1.18.1)\n",
      "Installing collected packages: xgboost\n",
      "Successfully installed xgboost-1.0.2\n"
     ]
    }
   ],
   "source": [
    "!pip install xgboost"
   ]
  },
  {
   "cell_type": "code",
   "execution_count": 64,
   "metadata": {},
   "outputs": [],
   "source": [
    "import xgboost\n",
    "from xgboost import XGBRegressor"
   ]
  },
  {
   "cell_type": "code",
   "execution_count": 9,
   "metadata": {},
   "outputs": [
    {
     "data": {
      "text/plain": [
       "XGBRegressor(base_score=0.5, booster=None, colsample_bylevel=1,\n",
       "             colsample_bynode=1, colsample_bytree=1, gamma=0, gpu_id=-1,\n",
       "             importance_type='gain', interaction_constraints=None,\n",
       "             learning_rate=0.300000012, max_delta_step=0, max_depth=6,\n",
       "             min_child_weight=1, missing=nan, monotone_constraints=None,\n",
       "             n_estimators=100, n_jobs=0, num_parallel_tree=1,\n",
       "             objective='reg:squarederror', random_state=0, reg_alpha=0,\n",
       "             reg_lambda=1, scale_pos_weight=1, subsample=1, tree_method=None,\n",
       "             validate_parameters=False, verbosity=None)"
      ]
     },
     "execution_count": 9,
     "metadata": {},
     "output_type": "execute_result"
    }
   ],
   "source": [
    "xgb_model = XGBRegressor()\n",
    "xgb_model.fit(X_train,y_train)"
   ]
  },
  {
   "cell_type": "code",
   "execution_count": 10,
   "metadata": {},
   "outputs": [
    {
     "data": {
      "text/plain": [
       "214.87239696890484"
      ]
     },
     "execution_count": 10,
     "metadata": {},
     "output_type": "execute_result"
    }
   ],
   "source": [
    "y_pred = xgb_model.predict(X_test)\n",
    "np.sqrt(mean_squared_error(y_test,y_pred))"
   ]
  },
  {
   "cell_type": "code",
   "execution_count": 11,
   "metadata": {},
   "outputs": [
    {
     "data": {
      "text/plain": [
       "0.569505226963309"
      ]
     },
     "execution_count": 11,
     "metadata": {},
     "output_type": "execute_result"
    }
   ],
   "source": [
    "r2_score(y_test,y_pred)"
   ]
  },
  {
   "cell_type": "code",
   "execution_count": 13,
   "metadata": {},
   "outputs": [
    {
     "name": "stdout",
     "output_type": "stream",
     "text": [
      "Fitting 10 folds for each of 27 candidates, totalling 270 fits\n"
     ]
    },
    {
     "name": "stderr",
     "output_type": "stream",
     "text": [
      "[Parallel(n_jobs=-1)]: Using backend LokyBackend with 4 concurrent workers.\n",
      "[Parallel(n_jobs=-1)]: Done  33 tasks      | elapsed:   15.4s\n",
      "[Parallel(n_jobs=-1)]: Done 154 tasks      | elapsed:   23.1s\n",
      "[Parallel(n_jobs=-1)]: Done 270 out of 270 | elapsed:   29.6s finished\n"
     ]
    }
   ],
   "source": [
    "xgb_params = {\"learning_rate\":[0.1,0.01,0.001],\"max_depth\":[4,6,10],\"n_estimators\":[200,300,500]}\n",
    "xbm_cv = GridSearchCV(xgb_model,xgb_params,cv=10,verbose=2,n_jobs=-1).fit(X_test,y_test)"
   ]
  },
  {
   "cell_type": "code",
   "execution_count": 14,
   "metadata": {},
   "outputs": [
    {
     "data": {
      "text/plain": [
       "{'learning_rate': 0.01, 'max_depth': 4, 'n_estimators': 300}"
      ]
     },
     "execution_count": 14,
     "metadata": {},
     "output_type": "execute_result"
    }
   ],
   "source": [
    "xbm_cv.best_params_"
   ]
  },
  {
   "cell_type": "code",
   "execution_count": 60,
   "metadata": {},
   "outputs": [
    {
     "data": {
      "text/plain": [
       "285.77704881268653"
      ]
     },
     "execution_count": 60,
     "metadata": {},
     "output_type": "execute_result"
    }
   ],
   "source": [
    "xgb_model = XGBRegressor(learning_rate= 0.01, max_depth= 4, n_estimators= 300)\n",
    "xgb_model.fit(X_train,y_train)\n",
    "y_pred = xgb_model.predict(X_test)\n",
    "np.sqrt(mean_squared_error(y_test,y_pred))"
   ]
  },
  {
   "cell_type": "code",
   "execution_count": 61,
   "metadata": {},
   "outputs": [
    {
     "data": {
      "text/plain": [
       "0.3075237254189366"
      ]
     },
     "execution_count": 61,
     "metadata": {},
     "output_type": "execute_result"
    }
   ],
   "source": [
    "r2_score(y_test,y_pred)"
   ]
  },
  {
   "cell_type": "code",
   "execution_count": 43,
   "metadata": {},
   "outputs": [],
   "source": [
    "importances= pd.DataFrame({\"importances\":xgb_model.feature_importances_},index=X_train.columns)"
   ]
  },
  {
   "cell_type": "code",
   "execution_count": 44,
   "metadata": {},
   "outputs": [
    {
     "data": {
      "text/html": [
       "<div>\n",
       "<style scoped>\n",
       "    .dataframe tbody tr th:only-of-type {\n",
       "        vertical-align: middle;\n",
       "    }\n",
       "\n",
       "    .dataframe tbody tr th {\n",
       "        vertical-align: top;\n",
       "    }\n",
       "\n",
       "    .dataframe thead th {\n",
       "        text-align: right;\n",
       "    }\n",
       "</style>\n",
       "<table border=\"1\" class=\"dataframe\">\n",
       "  <thead>\n",
       "    <tr style=\"text-align: right;\">\n",
       "      <th></th>\n",
       "      <th>importances</th>\n",
       "    </tr>\n",
       "  </thead>\n",
       "  <tbody>\n",
       "    <tr>\n",
       "      <th>CHits</th>\n",
       "      <td>0.368883</td>\n",
       "    </tr>\n",
       "    <tr>\n",
       "      <th>CRBI</th>\n",
       "      <td>0.120585</td>\n",
       "    </tr>\n",
       "    <tr>\n",
       "      <th>RBI</th>\n",
       "      <td>0.061267</td>\n",
       "    </tr>\n",
       "    <tr>\n",
       "      <th>CRuns</th>\n",
       "      <td>0.060538</td>\n",
       "    </tr>\n",
       "    <tr>\n",
       "      <th>AtBat</th>\n",
       "      <td>0.053678</td>\n",
       "    </tr>\n",
       "    <tr>\n",
       "      <th>CHmRun</th>\n",
       "      <td>0.042392</td>\n",
       "    </tr>\n",
       "    <tr>\n",
       "      <th>PutOuts</th>\n",
       "      <td>0.039428</td>\n",
       "    </tr>\n",
       "    <tr>\n",
       "      <th>Runs</th>\n",
       "      <td>0.038381</td>\n",
       "    </tr>\n",
       "    <tr>\n",
       "      <th>Hits</th>\n",
       "      <td>0.036763</td>\n",
       "    </tr>\n",
       "    <tr>\n",
       "      <th>CWalks</th>\n",
       "      <td>0.031082</td>\n",
       "    </tr>\n",
       "    <tr>\n",
       "      <th>Walks</th>\n",
       "      <td>0.030915</td>\n",
       "    </tr>\n",
       "    <tr>\n",
       "      <th>CAtBat</th>\n",
       "      <td>0.028818</td>\n",
       "    </tr>\n",
       "    <tr>\n",
       "      <th>Errors</th>\n",
       "      <td>0.026678</td>\n",
       "    </tr>\n",
       "    <tr>\n",
       "      <th>Years</th>\n",
       "      <td>0.023232</td>\n",
       "    </tr>\n",
       "    <tr>\n",
       "      <th>Assists</th>\n",
       "      <td>0.012225</td>\n",
       "    </tr>\n",
       "    <tr>\n",
       "      <th>NewLeagueNewLeague_dumA</th>\n",
       "      <td>0.007379</td>\n",
       "    </tr>\n",
       "    <tr>\n",
       "      <th>HmRun</th>\n",
       "      <td>0.006530</td>\n",
       "    </tr>\n",
       "    <tr>\n",
       "      <th>DivisionDivision_dumE</th>\n",
       "      <td>0.006221</td>\n",
       "    </tr>\n",
       "    <tr>\n",
       "      <th>LeagueLeague_dumA</th>\n",
       "      <td>0.005006</td>\n",
       "    </tr>\n",
       "    <tr>\n",
       "      <th>LeagueLeague_dumN</th>\n",
       "      <td>0.000000</td>\n",
       "    </tr>\n",
       "    <tr>\n",
       "      <th>DivisionDivision_dumW</th>\n",
       "      <td>0.000000</td>\n",
       "    </tr>\n",
       "    <tr>\n",
       "      <th>NewLeagueNewLeague_dumN</th>\n",
       "      <td>0.000000</td>\n",
       "    </tr>\n",
       "  </tbody>\n",
       "</table>\n",
       "</div>"
      ],
      "text/plain": [
       "                         importances\n",
       "CHits                       0.368883\n",
       "CRBI                        0.120585\n",
       "RBI                         0.061267\n",
       "CRuns                       0.060538\n",
       "AtBat                       0.053678\n",
       "CHmRun                      0.042392\n",
       "PutOuts                     0.039428\n",
       "Runs                        0.038381\n",
       "Hits                        0.036763\n",
       "CWalks                      0.031082\n",
       "Walks                       0.030915\n",
       "CAtBat                      0.028818\n",
       "Errors                      0.026678\n",
       "Years                       0.023232\n",
       "Assists                     0.012225\n",
       "NewLeagueNewLeague_dumA     0.007379\n",
       "HmRun                       0.006530\n",
       "DivisionDivision_dumE       0.006221\n",
       "LeagueLeague_dumA           0.005006\n",
       "LeagueLeague_dumN           0.000000\n",
       "DivisionDivision_dumW       0.000000\n",
       "NewLeagueNewLeague_dumN     0.000000"
      ]
     },
     "execution_count": 44,
     "metadata": {},
     "output_type": "execute_result"
    }
   ],
   "source": [
    "importances.sort_values(by=\"importances\" ,axis=0,ascending=False)"
   ]
  },
  {
   "cell_type": "markdown",
   "metadata": {},
   "source": [
    "## LightGBM"
   ]
  },
  {
   "cell_type": "code",
   "execution_count": 45,
   "metadata": {},
   "outputs": [
    {
     "name": "stdout",
     "output_type": "stream",
     "text": [
      "Collecting lightgbm\n",
      "  Downloading lightgbm-2.3.1-py2.py3-none-win_amd64.whl (544 kB)\n",
      "Requirement already satisfied: numpy in c:\\users\\darak\\anaconda3\\lib\\site-packages (from lightgbm) (1.18.1)\n",
      "Requirement already satisfied: scipy in c:\\users\\darak\\anaconda3\\lib\\site-packages (from lightgbm) (1.4.1)\n",
      "Requirement already satisfied: scikit-learn in c:\\users\\darak\\anaconda3\\lib\\site-packages (from lightgbm) (0.22.1)\n",
      "Requirement already satisfied: joblib>=0.11 in c:\\users\\darak\\anaconda3\\lib\\site-packages (from scikit-learn->lightgbm) (0.14.1)\n",
      "Installing collected packages: lightgbm\n",
      "Successfully installed lightgbm-2.3.1\n"
     ]
    }
   ],
   "source": [
    "!pip install lightgbm"
   ]
  },
  {
   "cell_type": "code",
   "execution_count": 63,
   "metadata": {},
   "outputs": [],
   "source": [
    "from lightgbm import LGBMRegressor"
   ]
  },
  {
   "cell_type": "code",
   "execution_count": 16,
   "metadata": {},
   "outputs": [
    {
     "data": {
      "text/plain": [
       "253.08626763882629"
      ]
     },
     "execution_count": 16,
     "metadata": {},
     "output_type": "execute_result"
    }
   ],
   "source": [
    "Lgbm_model = LGBMRegressor().fit(X_train,y_train)\n",
    "y_pred = Lgbm_model.predict(X_test)\n",
    "np.sqrt(mean_squared_error(y_test,y_pred))"
   ]
  },
  {
   "cell_type": "code",
   "execution_count": 17,
   "metadata": {},
   "outputs": [
    {
     "data": {
      "text/plain": [
       "0.5941582156226433"
      ]
     },
     "execution_count": 17,
     "metadata": {},
     "output_type": "execute_result"
    }
   ],
   "source": [
    "r2_score(y_test,y_pred)"
   ]
  },
  {
   "cell_type": "code",
   "execution_count": 12,
   "metadata": {},
   "outputs": [
    {
     "name": "stdout",
     "output_type": "stream",
     "text": [
      "Fitting 10 folds for each of 80 candidates, totalling 800 fits\n"
     ]
    },
    {
     "name": "stderr",
     "output_type": "stream",
     "text": [
      "[Parallel(n_jobs=-1)]: Using backend LokyBackend with 4 concurrent workers.\n",
      "[Parallel(n_jobs=-1)]: Done  33 tasks      | elapsed:    4.6s\n",
      "[Parallel(n_jobs=-1)]: Done 444 tasks      | elapsed:   12.6s\n",
      "[Parallel(n_jobs=-1)]: Done 800 out of 800 | elapsed:   20.0s finished\n"
     ]
    }
   ],
   "source": [
    "lgbm_params= {\"learning_rate\":[0.1,0.01,0.5,1],\"max_depth\":[-1,2,4,8,10],\"n_estimators\":[20,50,100,200]}\n",
    "lgbm_cv = GridSearchCV(Lgbm_model,lgbm_params,cv=10,verbose=2,n_jobs=-1).fit(X_train,y_train)"
   ]
  },
  {
   "cell_type": "code",
   "execution_count": 13,
   "metadata": {},
   "outputs": [
    {
     "data": {
      "text/plain": [
       "{'learning_rate': 0.1, 'max_depth': 4, 'n_estimators': 100}"
      ]
     },
     "execution_count": 13,
     "metadata": {},
     "output_type": "execute_result"
    }
   ],
   "source": [
    "lgbm_cv.best_params_"
   ]
  },
  {
   "cell_type": "code",
   "execution_count": 18,
   "metadata": {},
   "outputs": [
    {
     "data": {
      "text/plain": [
       "243.6271056844598"
      ]
     },
     "execution_count": 18,
     "metadata": {},
     "output_type": "execute_result"
    }
   ],
   "source": [
    "Lgbm_model = LGBMRegressor(learning_rate=0.1,max_depth=4,n_estimators=100).fit(X_train,y_train)\n",
    "y_pred = Lgbm_model.predict(X_test)\n",
    "np.sqrt(mean_squared_error(y_test,y_pred))"
   ]
  },
  {
   "cell_type": "code",
   "execution_count": 19,
   "metadata": {},
   "outputs": [
    {
     "data": {
      "text/plain": [
       "0.6239281659973506"
      ]
     },
     "execution_count": 19,
     "metadata": {},
     "output_type": "execute_result"
    }
   ],
   "source": [
    "r2_score(y_test,y_pred)"
   ]
  },
  {
   "cell_type": "markdown",
   "metadata": {},
   "source": [
    "## Catboost"
   ]
  },
  {
   "cell_type": "code",
   "execution_count": 20,
   "metadata": {
    "collapsed": true,
    "jupyter": {
     "outputs_hidden": true
    }
   },
   "outputs": [
    {
     "name": "stdout",
     "output_type": "stream",
     "text": [
      "Collecting catboost\n",
      "  Downloading catboost-0.22-cp37-none-win_amd64.whl (63.4 MB)\n",
      "Collecting plotly\n",
      "  Downloading plotly-4.6.0-py2.py3-none-any.whl (7.1 MB)\n",
      "Requirement already satisfied: scipy in c:\\users\\darak\\anaconda3\\lib\\site-packages (from catboost) (1.4.1)\n",
      "Collecting graphviz\n",
      "  Downloading graphviz-0.13.2-py2.py3-none-any.whl (17 kB)\n",
      "Requirement already satisfied: pandas>=0.24.0 in c:\\users\\darak\\anaconda3\\lib\\site-packages (from catboost) (1.0.1)\n",
      "Requirement already satisfied: matplotlib in c:\\users\\darak\\anaconda3\\lib\\site-packages (from catboost) (3.1.3)\n",
      "Requirement already satisfied: six in c:\\users\\darak\\anaconda3\\lib\\site-packages (from catboost) (1.14.0)\n",
      "Requirement already satisfied: numpy>=1.16.0 in c:\\users\\darak\\anaconda3\\lib\\site-packages (from catboost) (1.18.1)\n",
      "Collecting retrying>=1.3.3\n",
      "  Downloading retrying-1.3.3.tar.gz (10 kB)\n",
      "Requirement already satisfied: pytz>=2017.2 in c:\\users\\darak\\anaconda3\\lib\\site-packages (from pandas>=0.24.0->catboost) (2019.3)\n",
      "Requirement already satisfied: python-dateutil>=2.6.1 in c:\\users\\darak\\anaconda3\\lib\\site-packages (from pandas>=0.24.0->catboost) (2.8.1)\n",
      "Requirement already satisfied: pyparsing!=2.0.4,!=2.1.2,!=2.1.6,>=2.0.1 in c:\\users\\darak\\anaconda3\\lib\\site-packages (from matplotlib->catboost) (2.4.6)\n",
      "Requirement already satisfied: kiwisolver>=1.0.1 in c:\\users\\darak\\anaconda3\\lib\\site-packages (from matplotlib->catboost) (1.1.0)\n",
      "Requirement already satisfied: cycler>=0.10 in c:\\users\\darak\\anaconda3\\lib\\site-packages (from matplotlib->catboost) (0.10.0)\n",
      "Requirement already satisfied: setuptools in c:\\users\\darak\\anaconda3\\lib\\site-packages (from kiwisolver>=1.0.1->matplotlib->catboost) (45.2.0.post20200210)\n",
      "Building wheels for collected packages: retrying\n",
      "  Building wheel for retrying (setup.py): started\n",
      "  Building wheel for retrying (setup.py): finished with status 'done'\n",
      "  Created wheel for retrying: filename=retrying-1.3.3-py3-none-any.whl size=11435 sha256=e5de614e9b199df7a3c7177dacbe64cb868d9dc36f453d0937a9523fb77fa7d1\n",
      "  Stored in directory: c:\\users\\darak\\appdata\\local\\pip\\cache\\wheels\\f9\\8d\\8d\\f6af3f7f9eea3553bc2fe6d53e4b287dad18b06a861ac56ddf\n",
      "Successfully built retrying\n",
      "Installing collected packages: retrying, plotly, graphviz, catboost\n",
      "Successfully installed catboost-0.22 graphviz-0.13.2 plotly-4.6.0 retrying-1.3.3\n"
     ]
    }
   ],
   "source": [
    "!pip install catboost"
   ]
  },
  {
   "cell_type": "code",
   "execution_count": 21,
   "metadata": {},
   "outputs": [],
   "source": [
    "from catboost import CatBoostRegressor"
   ]
  },
  {
   "cell_type": "code",
   "execution_count": 26,
   "metadata": {
    "collapsed": true,
    "jupyter": {
     "outputs_hidden": true
    }
   },
   "outputs": [
    {
     "name": "stdout",
     "output_type": "stream",
     "text": [
      "Learning rate set to 0.029563\n",
      "0:\tlearn: 462.2997658\ttotal: 4.64ms\tremaining: 4.63s\n",
      "1:\tlearn: 456.5191997\ttotal: 10.4ms\tremaining: 5.18s\n",
      "2:\tlearn: 451.1425015\ttotal: 17.9ms\tremaining: 5.95s\n",
      "3:\tlearn: 445.2805893\ttotal: 26.4ms\tremaining: 6.58s\n",
      "4:\tlearn: 439.5203150\ttotal: 33.1ms\tremaining: 6.59s\n",
      "5:\tlearn: 433.7878754\ttotal: 38.3ms\tremaining: 6.35s\n",
      "6:\tlearn: 428.4114801\ttotal: 42.9ms\tremaining: 6.08s\n",
      "7:\tlearn: 422.8563797\ttotal: 47.9ms\tremaining: 5.93s\n",
      "8:\tlearn: 416.9600899\ttotal: 52.8ms\tremaining: 5.81s\n",
      "9:\tlearn: 411.9182042\ttotal: 57.6ms\tremaining: 5.7s\n",
      "10:\tlearn: 406.6327110\ttotal: 62.4ms\tremaining: 5.61s\n",
      "11:\tlearn: 402.3496983\ttotal: 67.3ms\tremaining: 5.54s\n",
      "12:\tlearn: 397.8959005\ttotal: 71.8ms\tremaining: 5.45s\n",
      "13:\tlearn: 393.4074897\ttotal: 76.5ms\tremaining: 5.38s\n",
      "14:\tlearn: 388.7795034\ttotal: 81.5ms\tremaining: 5.35s\n",
      "15:\tlearn: 384.1011247\ttotal: 88.3ms\tremaining: 5.43s\n",
      "16:\tlearn: 379.6564107\ttotal: 96.9ms\tremaining: 5.6s\n",
      "17:\tlearn: 376.0465673\ttotal: 103ms\tremaining: 5.61s\n",
      "18:\tlearn: 371.8082337\ttotal: 108ms\tremaining: 5.56s\n",
      "19:\tlearn: 367.3335774\ttotal: 113ms\tremaining: 5.53s\n",
      "20:\tlearn: 363.8399764\ttotal: 118ms\tremaining: 5.49s\n",
      "21:\tlearn: 359.7295782\ttotal: 122ms\tremaining: 5.43s\n",
      "22:\tlearn: 356.1323649\ttotal: 127ms\tremaining: 5.41s\n",
      "23:\tlearn: 352.6196968\ttotal: 132ms\tremaining: 5.37s\n",
      "24:\tlearn: 349.3983712\ttotal: 137ms\tremaining: 5.34s\n",
      "25:\tlearn: 345.7976011\ttotal: 142ms\tremaining: 5.34s\n",
      "26:\tlearn: 342.2124473\ttotal: 148ms\tremaining: 5.32s\n",
      "27:\tlearn: 338.5673104\ttotal: 153ms\tremaining: 5.31s\n",
      "28:\tlearn: 335.7867238\ttotal: 158ms\tremaining: 5.28s\n",
      "29:\tlearn: 332.0712456\ttotal: 165ms\tremaining: 5.32s\n",
      "30:\tlearn: 328.5768838\ttotal: 169ms\tremaining: 5.3s\n",
      "31:\tlearn: 325.4410941\ttotal: 180ms\tremaining: 5.44s\n",
      "32:\tlearn: 322.5522356\ttotal: 186ms\tremaining: 5.46s\n",
      "33:\tlearn: 320.2074147\ttotal: 193ms\tremaining: 5.47s\n",
      "34:\tlearn: 317.4095617\ttotal: 203ms\tremaining: 5.6s\n",
      "35:\tlearn: 315.1623028\ttotal: 209ms\tremaining: 5.59s\n",
      "36:\tlearn: 313.0659738\ttotal: 216ms\tremaining: 5.63s\n",
      "37:\tlearn: 310.2966264\ttotal: 221ms\tremaining: 5.59s\n",
      "38:\tlearn: 307.2297189\ttotal: 226ms\tremaining: 5.56s\n",
      "39:\tlearn: 304.3230671\ttotal: 231ms\tremaining: 5.53s\n",
      "40:\tlearn: 301.1759500\ttotal: 235ms\tremaining: 5.5s\n",
      "41:\tlearn: 298.4655720\ttotal: 240ms\tremaining: 5.48s\n",
      "42:\tlearn: 296.3022788\ttotal: 245ms\tremaining: 5.45s\n",
      "43:\tlearn: 294.0383384\ttotal: 250ms\tremaining: 5.43s\n",
      "44:\tlearn: 291.9842660\ttotal: 255ms\tremaining: 5.4s\n",
      "45:\tlearn: 289.5290409\ttotal: 259ms\tremaining: 5.38s\n",
      "46:\tlearn: 287.4117546\ttotal: 264ms\tremaining: 5.36s\n",
      "47:\tlearn: 285.1562431\ttotal: 269ms\tremaining: 5.34s\n",
      "48:\tlearn: 283.2879838\ttotal: 274ms\tremaining: 5.31s\n",
      "49:\tlearn: 281.4596245\ttotal: 285ms\tremaining: 5.41s\n",
      "50:\tlearn: 279.3430944\ttotal: 289ms\tremaining: 5.38s\n",
      "51:\tlearn: 276.8329593\ttotal: 300ms\tremaining: 5.47s\n",
      "52:\tlearn: 274.9756454\ttotal: 305ms\tremaining: 5.45s\n",
      "53:\tlearn: 273.4339978\ttotal: 310ms\tremaining: 5.43s\n",
      "54:\tlearn: 271.8031867\ttotal: 317ms\tremaining: 5.45s\n",
      "55:\tlearn: 269.7963752\ttotal: 323ms\tremaining: 5.45s\n",
      "56:\tlearn: 268.1173043\ttotal: 331ms\tremaining: 5.48s\n",
      "57:\tlearn: 266.4750080\ttotal: 337ms\tremaining: 5.47s\n",
      "58:\tlearn: 265.5556972\ttotal: 340ms\tremaining: 5.42s\n",
      "59:\tlearn: 264.0127820\ttotal: 345ms\tremaining: 5.41s\n",
      "60:\tlearn: 262.0768272\ttotal: 351ms\tremaining: 5.4s\n",
      "61:\tlearn: 260.7172526\ttotal: 357ms\tremaining: 5.4s\n",
      "62:\tlearn: 258.8051965\ttotal: 362ms\tremaining: 5.39s\n",
      "63:\tlearn: 257.1806467\ttotal: 368ms\tremaining: 5.38s\n",
      "64:\tlearn: 255.1809300\ttotal: 374ms\tremaining: 5.38s\n",
      "65:\tlearn: 253.9400216\ttotal: 379ms\tremaining: 5.36s\n",
      "66:\tlearn: 253.1230431\ttotal: 387ms\tremaining: 5.38s\n",
      "67:\tlearn: 251.1733555\ttotal: 392ms\tremaining: 5.37s\n",
      "68:\tlearn: 250.0188968\ttotal: 397ms\tremaining: 5.36s\n",
      "69:\tlearn: 248.6180417\ttotal: 402ms\tremaining: 5.34s\n",
      "70:\tlearn: 247.3037194\ttotal: 407ms\tremaining: 5.32s\n",
      "71:\tlearn: 245.6261819\ttotal: 415ms\tremaining: 5.35s\n",
      "72:\tlearn: 243.8676900\ttotal: 422ms\tremaining: 5.36s\n",
      "73:\tlearn: 242.1702531\ttotal: 427ms\tremaining: 5.34s\n",
      "74:\tlearn: 240.6252814\ttotal: 434ms\tremaining: 5.35s\n",
      "75:\tlearn: 239.0928150\ttotal: 438ms\tremaining: 5.33s\n",
      "76:\tlearn: 237.8952907\ttotal: 443ms\tremaining: 5.31s\n",
      "77:\tlearn: 236.8027188\ttotal: 448ms\tremaining: 5.3s\n",
      "78:\tlearn: 235.3615302\ttotal: 453ms\tremaining: 5.28s\n",
      "79:\tlearn: 234.2001635\ttotal: 457ms\tremaining: 5.26s\n",
      "80:\tlearn: 232.7374175\ttotal: 462ms\tremaining: 5.24s\n",
      "81:\tlearn: 231.4071353\ttotal: 466ms\tremaining: 5.22s\n",
      "82:\tlearn: 230.1081975\ttotal: 471ms\tremaining: 5.2s\n",
      "83:\tlearn: 228.9689676\ttotal: 475ms\tremaining: 5.18s\n",
      "84:\tlearn: 227.7297351\ttotal: 481ms\tremaining: 5.18s\n",
      "85:\tlearn: 226.3527216\ttotal: 486ms\tremaining: 5.16s\n",
      "86:\tlearn: 225.3049050\ttotal: 491ms\tremaining: 5.15s\n",
      "87:\tlearn: 224.1881525\ttotal: 497ms\tremaining: 5.15s\n",
      "88:\tlearn: 223.1110115\ttotal: 502ms\tremaining: 5.14s\n",
      "89:\tlearn: 221.8647862\ttotal: 508ms\tremaining: 5.14s\n",
      "90:\tlearn: 220.5390822\ttotal: 515ms\tremaining: 5.15s\n",
      "91:\tlearn: 219.2469637\ttotal: 521ms\tremaining: 5.14s\n",
      "92:\tlearn: 218.3870245\ttotal: 525ms\tremaining: 5.12s\n",
      "93:\tlearn: 217.4134306\ttotal: 531ms\tremaining: 5.11s\n",
      "94:\tlearn: 216.2052763\ttotal: 535ms\tremaining: 5.1s\n",
      "95:\tlearn: 215.1645562\ttotal: 540ms\tremaining: 5.09s\n",
      "96:\tlearn: 214.7163890\ttotal: 546ms\tremaining: 5.08s\n",
      "97:\tlearn: 214.2824345\ttotal: 548ms\tremaining: 5.04s\n",
      "98:\tlearn: 213.3068683\ttotal: 552ms\tremaining: 5.02s\n",
      "99:\tlearn: 212.8454112\ttotal: 556ms\tremaining: 5s\n",
      "100:\tlearn: 211.4915939\ttotal: 560ms\tremaining: 4.99s\n",
      "101:\tlearn: 210.5521816\ttotal: 569ms\tremaining: 5.01s\n",
      "102:\tlearn: 209.6034732\ttotal: 576ms\tremaining: 5.01s\n",
      "103:\tlearn: 208.7802323\ttotal: 580ms\tremaining: 5s\n",
      "104:\tlearn: 208.1219960\ttotal: 585ms\tremaining: 4.99s\n",
      "105:\tlearn: 207.5861897\ttotal: 590ms\tremaining: 4.97s\n",
      "106:\tlearn: 206.8477893\ttotal: 594ms\tremaining: 4.96s\n",
      "107:\tlearn: 206.0795724\ttotal: 601ms\tremaining: 4.96s\n",
      "108:\tlearn: 205.4079366\ttotal: 606ms\tremaining: 4.95s\n",
      "109:\tlearn: 204.3380117\ttotal: 611ms\tremaining: 4.94s\n",
      "110:\tlearn: 203.7818430\ttotal: 615ms\tremaining: 4.93s\n",
      "111:\tlearn: 202.9316051\ttotal: 620ms\tremaining: 4.92s\n",
      "112:\tlearn: 202.4055649\ttotal: 626ms\tremaining: 4.92s\n",
      "113:\tlearn: 201.6219850\ttotal: 632ms\tremaining: 4.91s\n",
      "114:\tlearn: 200.7981351\ttotal: 637ms\tremaining: 4.9s\n",
      "115:\tlearn: 199.8474481\ttotal: 642ms\tremaining: 4.89s\n",
      "116:\tlearn: 199.3197925\ttotal: 648ms\tremaining: 4.89s\n",
      "117:\tlearn: 198.7765999\ttotal: 654ms\tremaining: 4.89s\n",
      "118:\tlearn: 197.9640632\ttotal: 661ms\tremaining: 4.89s\n",
      "119:\tlearn: 197.1091049\ttotal: 666ms\tremaining: 4.88s\n",
      "120:\tlearn: 196.4227110\ttotal: 671ms\tremaining: 4.88s\n",
      "121:\tlearn: 195.6085792\ttotal: 678ms\tremaining: 4.88s\n",
      "122:\tlearn: 195.1474264\ttotal: 683ms\tremaining: 4.87s\n",
      "123:\tlearn: 194.5585018\ttotal: 688ms\tremaining: 4.86s\n",
      "124:\tlearn: 193.7001776\ttotal: 693ms\tremaining: 4.85s\n",
      "125:\tlearn: 192.9098466\ttotal: 698ms\tremaining: 4.84s\n",
      "126:\tlearn: 191.8179911\ttotal: 703ms\tremaining: 4.83s\n",
      "127:\tlearn: 190.6736869\ttotal: 708ms\tremaining: 4.82s\n",
      "128:\tlearn: 190.0327827\ttotal: 713ms\tremaining: 4.82s\n",
      "129:\tlearn: 189.2495605\ttotal: 719ms\tremaining: 4.81s\n",
      "130:\tlearn: 188.5950242\ttotal: 724ms\tremaining: 4.8s\n",
      "131:\tlearn: 187.7310979\ttotal: 729ms\tremaining: 4.79s\n",
      "132:\tlearn: 186.9012565\ttotal: 734ms\tremaining: 4.79s\n",
      "133:\tlearn: 186.2720446\ttotal: 740ms\tremaining: 4.78s\n",
      "134:\tlearn: 185.8178198\ttotal: 745ms\tremaining: 4.78s\n",
      "135:\tlearn: 185.1816579\ttotal: 750ms\tremaining: 4.77s\n",
      "136:\tlearn: 184.8606253\ttotal: 755ms\tremaining: 4.75s\n",
      "137:\tlearn: 184.3293518\ttotal: 766ms\tremaining: 4.79s\n",
      "138:\tlearn: 183.4934316\ttotal: 771ms\tremaining: 4.77s\n",
      "139:\tlearn: 182.8764191\ttotal: 776ms\tremaining: 4.77s\n",
      "140:\tlearn: 182.4095319\ttotal: 781ms\tremaining: 4.76s\n",
      "141:\tlearn: 181.8622150\ttotal: 786ms\tremaining: 4.75s\n",
      "142:\tlearn: 181.3231532\ttotal: 792ms\tremaining: 4.75s\n",
      "143:\tlearn: 180.5220296\ttotal: 798ms\tremaining: 4.74s\n",
      "144:\tlearn: 179.9646926\ttotal: 808ms\tremaining: 4.76s\n",
      "145:\tlearn: 179.2587714\ttotal: 817ms\tremaining: 4.78s\n",
      "146:\tlearn: 178.2935355\ttotal: 823ms\tremaining: 4.78s\n",
      "147:\tlearn: 177.6405924\ttotal: 828ms\tremaining: 4.76s\n",
      "148:\tlearn: 177.0849376\ttotal: 833ms\tremaining: 4.75s\n",
      "149:\tlearn: 176.4839375\ttotal: 838ms\tremaining: 4.75s\n",
      "150:\tlearn: 175.9405471\ttotal: 843ms\tremaining: 4.74s\n",
      "151:\tlearn: 175.2293202\ttotal: 848ms\tremaining: 4.73s\n",
      "152:\tlearn: 174.5169978\ttotal: 854ms\tremaining: 4.73s\n",
      "153:\tlearn: 174.0437149\ttotal: 859ms\tremaining: 4.72s\n",
      "154:\tlearn: 173.5867307\ttotal: 864ms\tremaining: 4.71s\n",
      "155:\tlearn: 172.6358714\ttotal: 869ms\tremaining: 4.7s\n",
      "156:\tlearn: 172.1535534\ttotal: 874ms\tremaining: 4.69s\n",
      "157:\tlearn: 171.5175753\ttotal: 880ms\tremaining: 4.69s\n",
      "158:\tlearn: 171.0171610\ttotal: 885ms\tremaining: 4.68s\n",
      "159:\tlearn: 170.4475603\ttotal: 889ms\tremaining: 4.67s\n",
      "160:\tlearn: 169.9108296\ttotal: 895ms\tremaining: 4.67s\n",
      "161:\tlearn: 169.3223038\ttotal: 900ms\tremaining: 4.66s\n",
      "162:\tlearn: 168.7972635\ttotal: 905ms\tremaining: 4.65s\n",
      "163:\tlearn: 168.2780454\ttotal: 911ms\tremaining: 4.64s\n",
      "164:\tlearn: 167.9512055\ttotal: 916ms\tremaining: 4.64s\n",
      "165:\tlearn: 167.4599414\ttotal: 921ms\tremaining: 4.63s\n",
      "166:\tlearn: 167.0266980\ttotal: 926ms\tremaining: 4.62s\n",
      "167:\tlearn: 166.3582764\ttotal: 931ms\tremaining: 4.61s\n",
      "168:\tlearn: 165.8812553\ttotal: 936ms\tremaining: 4.6s\n",
      "169:\tlearn: 165.2599435\ttotal: 941ms\tremaining: 4.6s\n",
      "170:\tlearn: 164.8256315\ttotal: 949ms\tremaining: 4.6s\n",
      "171:\tlearn: 164.5485640\ttotal: 955ms\tremaining: 4.6s\n",
      "172:\tlearn: 163.8898555\ttotal: 960ms\tremaining: 4.59s\n",
      "173:\tlearn: 163.4975450\ttotal: 966ms\tremaining: 4.58s\n",
      "174:\tlearn: 162.7615369\ttotal: 971ms\tremaining: 4.58s\n",
      "175:\tlearn: 162.4093989\ttotal: 977ms\tremaining: 4.57s\n",
      "176:\tlearn: 161.8065500\ttotal: 982ms\tremaining: 4.57s\n",
      "177:\tlearn: 161.2589024\ttotal: 988ms\tremaining: 4.56s\n",
      "178:\tlearn: 160.6925330\ttotal: 992ms\tremaining: 4.55s\n",
      "179:\tlearn: 160.3114552\ttotal: 997ms\tremaining: 4.54s\n",
      "180:\tlearn: 159.8908169\ttotal: 1s\tremaining: 4.53s\n",
      "181:\tlearn: 159.5446370\ttotal: 1.01s\tremaining: 4.52s\n",
      "182:\tlearn: 158.7838206\ttotal: 1.01s\tremaining: 4.51s\n",
      "183:\tlearn: 158.5793479\ttotal: 1.02s\tremaining: 4.51s\n",
      "184:\tlearn: 158.1768514\ttotal: 1.02s\tremaining: 4.5s\n",
      "185:\tlearn: 157.6226190\ttotal: 1.02s\tremaining: 4.49s\n",
      "186:\tlearn: 156.9298664\ttotal: 1.03s\tremaining: 4.48s\n",
      "187:\tlearn: 156.4656696\ttotal: 1.03s\tremaining: 4.47s\n",
      "188:\tlearn: 155.9600769\ttotal: 1.04s\tremaining: 4.46s\n",
      "189:\tlearn: 155.5804848\ttotal: 1.04s\tremaining: 4.46s\n",
      "190:\tlearn: 154.9205021\ttotal: 1.05s\tremaining: 4.45s\n",
      "191:\tlearn: 154.6829839\ttotal: 1.05s\tremaining: 4.44s\n",
      "192:\tlearn: 154.1375717\ttotal: 1.06s\tremaining: 4.43s\n",
      "193:\tlearn: 153.8250479\ttotal: 1.07s\tremaining: 4.44s\n",
      "194:\tlearn: 153.4211027\ttotal: 1.07s\tremaining: 4.43s\n",
      "195:\tlearn: 153.2156841\ttotal: 1.08s\tremaining: 4.42s\n",
      "196:\tlearn: 152.7920611\ttotal: 1.08s\tremaining: 4.42s\n",
      "197:\tlearn: 152.2580459\ttotal: 1.09s\tremaining: 4.41s\n",
      "198:\tlearn: 151.6407276\ttotal: 1.09s\tremaining: 4.4s\n",
      "199:\tlearn: 151.2962341\ttotal: 1.1s\tremaining: 4.39s\n",
      "200:\tlearn: 150.8798198\ttotal: 1.1s\tremaining: 4.38s\n",
      "201:\tlearn: 150.6742547\ttotal: 1.11s\tremaining: 4.37s\n",
      "202:\tlearn: 149.8484150\ttotal: 1.11s\tremaining: 4.37s\n",
      "203:\tlearn: 149.1503390\ttotal: 1.12s\tremaining: 4.36s\n",
      "204:\tlearn: 148.4106031\ttotal: 1.12s\tremaining: 4.35s\n",
      "205:\tlearn: 147.8319537\ttotal: 1.13s\tremaining: 4.35s\n",
      "206:\tlearn: 147.5719256\ttotal: 1.13s\tremaining: 4.34s\n",
      "207:\tlearn: 147.3806043\ttotal: 1.14s\tremaining: 4.33s\n",
      "208:\tlearn: 146.9256008\ttotal: 1.15s\tremaining: 4.34s\n",
      "209:\tlearn: 146.4665266\ttotal: 1.15s\tremaining: 4.34s\n",
      "210:\tlearn: 146.1398320\ttotal: 1.16s\tremaining: 4.33s\n",
      "211:\tlearn: 145.4175467\ttotal: 1.16s\tremaining: 4.33s\n",
      "212:\tlearn: 145.2229273\ttotal: 1.17s\tremaining: 4.32s\n",
      "213:\tlearn: 144.9981386\ttotal: 1.17s\tremaining: 4.31s\n",
      "214:\tlearn: 144.6861929\ttotal: 1.18s\tremaining: 4.3s\n",
      "215:\tlearn: 144.0535522\ttotal: 1.18s\tremaining: 4.3s\n",
      "216:\tlearn: 143.5340170\ttotal: 1.19s\tremaining: 4.29s\n",
      "217:\tlearn: 143.3369722\ttotal: 1.2s\tremaining: 4.29s\n",
      "218:\tlearn: 143.1899777\ttotal: 1.2s\tremaining: 4.28s\n",
      "219:\tlearn: 142.8376254\ttotal: 1.2s\tremaining: 4.27s\n",
      "220:\tlearn: 142.3340556\ttotal: 1.21s\tremaining: 4.27s\n",
      "221:\tlearn: 141.6803183\ttotal: 1.22s\tremaining: 4.26s\n",
      "222:\tlearn: 141.1543588\ttotal: 1.22s\tremaining: 4.26s\n",
      "223:\tlearn: 140.7852067\ttotal: 1.23s\tremaining: 4.26s\n",
      "224:\tlearn: 140.6639549\ttotal: 1.23s\tremaining: 4.25s\n",
      "225:\tlearn: 140.0476476\ttotal: 1.24s\tremaining: 4.24s\n",
      "226:\tlearn: 139.5314800\ttotal: 1.24s\tremaining: 4.24s\n",
      "227:\tlearn: 139.0326503\ttotal: 1.25s\tremaining: 4.23s\n",
      "228:\tlearn: 138.7045648\ttotal: 1.25s\tremaining: 4.22s\n",
      "229:\tlearn: 138.1765452\ttotal: 1.26s\tremaining: 4.23s\n",
      "230:\tlearn: 137.8117604\ttotal: 1.27s\tremaining: 4.22s\n",
      "231:\tlearn: 137.3835472\ttotal: 1.27s\tremaining: 4.22s\n",
      "232:\tlearn: 136.8597079\ttotal: 1.28s\tremaining: 4.21s\n",
      "233:\tlearn: 136.5950871\ttotal: 1.28s\tremaining: 4.2s\n",
      "234:\tlearn: 136.1233361\ttotal: 1.29s\tremaining: 4.2s\n",
      "235:\tlearn: 135.4317274\ttotal: 1.29s\tremaining: 4.19s\n",
      "236:\tlearn: 135.0197941\ttotal: 1.3s\tremaining: 4.18s\n",
      "237:\tlearn: 134.6724057\ttotal: 1.3s\tremaining: 4.18s\n",
      "238:\tlearn: 134.4179829\ttotal: 1.31s\tremaining: 4.17s\n",
      "239:\tlearn: 134.1111922\ttotal: 1.31s\tremaining: 4.16s\n",
      "240:\tlearn: 133.5686840\ttotal: 1.32s\tremaining: 4.15s\n",
      "241:\tlearn: 133.3475215\ttotal: 1.32s\tremaining: 4.14s\n",
      "242:\tlearn: 132.6354057\ttotal: 1.33s\tremaining: 4.14s\n",
      "243:\tlearn: 132.4258561\ttotal: 1.33s\tremaining: 4.14s\n",
      "244:\tlearn: 131.8412187\ttotal: 1.34s\tremaining: 4.13s\n",
      "245:\tlearn: 131.4515957\ttotal: 1.34s\tremaining: 4.12s\n",
      "246:\tlearn: 130.9285275\ttotal: 1.35s\tremaining: 4.11s\n",
      "247:\tlearn: 130.6058088\ttotal: 1.35s\tremaining: 4.11s\n",
      "248:\tlearn: 130.3960765\ttotal: 1.36s\tremaining: 4.1s\n",
      "249:\tlearn: 129.8244329\ttotal: 1.36s\tremaining: 4.09s\n",
      "250:\tlearn: 129.6563446\ttotal: 1.37s\tremaining: 4.09s\n",
      "251:\tlearn: 129.2148829\ttotal: 1.38s\tremaining: 4.08s\n",
      "252:\tlearn: 128.9888954\ttotal: 1.38s\tremaining: 4.08s\n",
      "253:\tlearn: 128.3907362\ttotal: 1.39s\tremaining: 4.07s\n",
      "254:\tlearn: 128.1284728\ttotal: 1.39s\tremaining: 4.06s\n",
      "255:\tlearn: 127.9369545\ttotal: 1.4s\tremaining: 4.06s\n",
      "256:\tlearn: 127.7479155\ttotal: 1.4s\tremaining: 4.05s\n",
      "257:\tlearn: 127.2289677\ttotal: 1.41s\tremaining: 4.04s\n",
      "258:\tlearn: 126.9189180\ttotal: 1.41s\tremaining: 4.03s\n",
      "259:\tlearn: 126.3693445\ttotal: 1.42s\tremaining: 4.03s\n",
      "260:\tlearn: 126.0740220\ttotal: 1.42s\tremaining: 4.02s\n",
      "261:\tlearn: 125.5334629\ttotal: 1.42s\tremaining: 4.01s\n",
      "262:\tlearn: 124.8442129\ttotal: 1.43s\tremaining: 4.02s\n",
      "263:\tlearn: 124.4360401\ttotal: 1.44s\tremaining: 4.01s\n",
      "264:\tlearn: 123.7005079\ttotal: 1.44s\tremaining: 4s\n",
      "265:\tlearn: 123.5356684\ttotal: 1.45s\tremaining: 4s\n",
      "266:\tlearn: 123.0263634\ttotal: 1.46s\tremaining: 4s\n",
      "267:\tlearn: 122.9242233\ttotal: 1.46s\tremaining: 3.99s\n",
      "268:\tlearn: 122.6580573\ttotal: 1.47s\tremaining: 3.98s\n",
      "269:\tlearn: 121.8686409\ttotal: 1.47s\tremaining: 3.98s\n",
      "270:\tlearn: 121.6117581\ttotal: 1.48s\tremaining: 3.97s\n",
      "271:\tlearn: 121.4652446\ttotal: 1.48s\tremaining: 3.96s\n",
      "272:\tlearn: 121.3668951\ttotal: 1.49s\tremaining: 3.96s\n",
      "273:\tlearn: 121.1969917\ttotal: 1.49s\tremaining: 3.95s\n",
      "274:\tlearn: 120.9988154\ttotal: 1.5s\tremaining: 3.94s\n",
      "275:\tlearn: 120.3962833\ttotal: 1.5s\tremaining: 3.94s\n",
      "276:\tlearn: 119.9449820\ttotal: 1.51s\tremaining: 3.93s\n",
      "277:\tlearn: 119.7670817\ttotal: 1.51s\tremaining: 3.93s\n",
      "278:\tlearn: 119.3842492\ttotal: 1.52s\tremaining: 3.92s\n",
      "279:\tlearn: 119.2217849\ttotal: 1.52s\tremaining: 3.91s\n",
      "280:\tlearn: 118.9064264\ttotal: 1.53s\tremaining: 3.9s\n",
      "281:\tlearn: 118.5774772\ttotal: 1.53s\tremaining: 3.9s\n",
      "282:\tlearn: 118.1897258\ttotal: 1.53s\tremaining: 3.89s\n",
      "283:\tlearn: 117.6585673\ttotal: 1.54s\tremaining: 3.88s\n",
      "284:\tlearn: 117.4680093\ttotal: 1.54s\tremaining: 3.88s\n",
      "285:\tlearn: 116.8181518\ttotal: 1.55s\tremaining: 3.87s\n",
      "286:\tlearn: 116.5790516\ttotal: 1.55s\tremaining: 3.86s\n",
      "287:\tlearn: 116.4777786\ttotal: 1.56s\tremaining: 3.85s\n",
      "288:\tlearn: 116.1605622\ttotal: 1.56s\tremaining: 3.84s\n",
      "289:\tlearn: 115.9541363\ttotal: 1.57s\tremaining: 3.84s\n",
      "290:\tlearn: 115.7100537\ttotal: 1.57s\tremaining: 3.84s\n",
      "291:\tlearn: 115.1076027\ttotal: 1.58s\tremaining: 3.83s\n",
      "292:\tlearn: 114.6297501\ttotal: 1.58s\tremaining: 3.82s\n",
      "293:\tlearn: 114.1328380\ttotal: 1.59s\tremaining: 3.82s\n",
      "294:\tlearn: 113.7450945\ttotal: 1.59s\tremaining: 3.81s\n",
      "295:\tlearn: 113.0544799\ttotal: 1.6s\tremaining: 3.8s\n",
      "296:\tlearn: 112.9375901\ttotal: 1.6s\tremaining: 3.79s\n",
      "297:\tlearn: 112.8766748\ttotal: 1.61s\tremaining: 3.79s\n",
      "298:\tlearn: 112.2816440\ttotal: 1.61s\tremaining: 3.78s\n",
      "299:\tlearn: 111.8739077\ttotal: 1.62s\tremaining: 3.77s\n",
      "300:\tlearn: 111.5054954\ttotal: 1.62s\tremaining: 3.77s\n",
      "301:\tlearn: 111.1810845\ttotal: 1.63s\tremaining: 3.76s\n",
      "302:\tlearn: 110.8032671\ttotal: 1.63s\tremaining: 3.76s\n",
      "303:\tlearn: 110.6561924\ttotal: 1.64s\tremaining: 3.75s\n",
      "304:\tlearn: 110.0188577\ttotal: 1.64s\tremaining: 3.75s\n",
      "305:\tlearn: 109.8480680\ttotal: 1.65s\tremaining: 3.74s\n",
      "306:\tlearn: 109.4535360\ttotal: 1.65s\tremaining: 3.73s\n",
      "307:\tlearn: 109.0976428\ttotal: 1.66s\tremaining: 3.73s\n",
      "308:\tlearn: 108.9558629\ttotal: 1.66s\tremaining: 3.72s\n",
      "309:\tlearn: 108.7812131\ttotal: 1.67s\tremaining: 3.71s\n",
      "310:\tlearn: 108.3024259\ttotal: 1.67s\tremaining: 3.71s\n",
      "311:\tlearn: 108.0407702\ttotal: 1.68s\tremaining: 3.7s\n",
      "312:\tlearn: 107.6622531\ttotal: 1.68s\tremaining: 3.69s\n",
      "313:\tlearn: 107.3925474\ttotal: 1.69s\tremaining: 3.69s\n",
      "314:\tlearn: 106.7573194\ttotal: 1.69s\tremaining: 3.68s\n",
      "315:\tlearn: 106.2293984\ttotal: 1.7s\tremaining: 3.68s\n",
      "316:\tlearn: 105.5760557\ttotal: 1.7s\tremaining: 3.67s\n",
      "317:\tlearn: 105.3718411\ttotal: 1.71s\tremaining: 3.66s\n",
      "318:\tlearn: 105.2715434\ttotal: 1.71s\tremaining: 3.66s\n",
      "319:\tlearn: 105.1323948\ttotal: 1.72s\tremaining: 3.65s\n",
      "320:\tlearn: 104.8590895\ttotal: 1.72s\tremaining: 3.64s\n",
      "321:\tlearn: 104.5129265\ttotal: 1.73s\tremaining: 3.63s\n",
      "322:\tlearn: 104.4083976\ttotal: 1.73s\tremaining: 3.63s\n",
      "323:\tlearn: 103.9530436\ttotal: 1.74s\tremaining: 3.62s\n",
      "324:\tlearn: 103.7597107\ttotal: 1.74s\tremaining: 3.62s\n",
      "325:\tlearn: 103.4054073\ttotal: 1.75s\tremaining: 3.61s\n",
      "326:\tlearn: 103.3224402\ttotal: 1.75s\tremaining: 3.6s\n",
      "327:\tlearn: 102.8501042\ttotal: 1.76s\tremaining: 3.6s\n",
      "328:\tlearn: 102.6414635\ttotal: 1.76s\tremaining: 3.59s\n",
      "329:\tlearn: 102.4331647\ttotal: 1.76s\tremaining: 3.58s\n",
      "330:\tlearn: 102.3388259\ttotal: 1.77s\tremaining: 3.58s\n",
      "331:\tlearn: 101.8593230\ttotal: 1.78s\tremaining: 3.58s\n",
      "332:\tlearn: 101.7923915\ttotal: 1.78s\tremaining: 3.57s\n",
      "333:\tlearn: 101.2173546\ttotal: 1.79s\tremaining: 3.57s\n",
      "334:\tlearn: 100.8616979\ttotal: 1.79s\tremaining: 3.56s\n",
      "335:\tlearn: 100.3602276\ttotal: 1.8s\tremaining: 3.56s\n",
      "336:\tlearn: 100.0144582\ttotal: 1.8s\tremaining: 3.55s\n",
      "337:\tlearn: 99.6257854\ttotal: 1.81s\tremaining: 3.54s\n",
      "338:\tlearn: 99.1826287\ttotal: 1.81s\tremaining: 3.54s\n",
      "339:\tlearn: 99.0217467\ttotal: 1.82s\tremaining: 3.53s\n",
      "340:\tlearn: 98.6798843\ttotal: 1.82s\tremaining: 3.53s\n",
      "341:\tlearn: 98.4121955\ttotal: 1.83s\tremaining: 3.52s\n",
      "342:\tlearn: 98.1011584\ttotal: 1.83s\tremaining: 3.51s\n",
      "343:\tlearn: 98.0108968\ttotal: 1.84s\tremaining: 3.51s\n",
      "344:\tlearn: 97.6338852\ttotal: 1.84s\tremaining: 3.5s\n",
      "345:\tlearn: 97.0900809\ttotal: 1.85s\tremaining: 3.49s\n",
      "346:\tlearn: 96.9690082\ttotal: 1.85s\tremaining: 3.49s\n",
      "347:\tlearn: 96.8834276\ttotal: 1.86s\tremaining: 3.48s\n",
      "348:\tlearn: 96.3519889\ttotal: 1.86s\tremaining: 3.47s\n",
      "349:\tlearn: 96.1372333\ttotal: 1.87s\tremaining: 3.47s\n",
      "350:\tlearn: 95.7785787\ttotal: 1.87s\tremaining: 3.46s\n",
      "351:\tlearn: 95.5720777\ttotal: 1.88s\tremaining: 3.46s\n",
      "352:\tlearn: 95.5169816\ttotal: 1.88s\tremaining: 3.45s\n",
      "353:\tlearn: 95.0284946\ttotal: 1.89s\tremaining: 3.44s\n",
      "354:\tlearn: 94.9526238\ttotal: 1.89s\tremaining: 3.44s\n",
      "355:\tlearn: 94.7882236\ttotal: 1.9s\tremaining: 3.43s\n",
      "356:\tlearn: 94.6811850\ttotal: 1.91s\tremaining: 3.43s\n",
      "357:\tlearn: 94.5440835\ttotal: 1.91s\tremaining: 3.42s\n",
      "358:\tlearn: 94.0543343\ttotal: 1.91s\tremaining: 3.42s\n",
      "359:\tlearn: 93.8900334\ttotal: 1.92s\tremaining: 3.41s\n",
      "360:\tlearn: 93.3506107\ttotal: 1.92s\tremaining: 3.4s\n",
      "361:\tlearn: 93.0961393\ttotal: 1.93s\tremaining: 3.4s\n",
      "362:\tlearn: 92.9461142\ttotal: 1.93s\tremaining: 3.39s\n",
      "363:\tlearn: 92.9097741\ttotal: 1.94s\tremaining: 3.39s\n",
      "364:\tlearn: 92.4472260\ttotal: 1.95s\tremaining: 3.38s\n",
      "365:\tlearn: 92.0845843\ttotal: 1.95s\tremaining: 3.38s\n",
      "366:\tlearn: 92.0075734\ttotal: 1.96s\tremaining: 3.38s\n",
      "367:\tlearn: 91.6020498\ttotal: 1.96s\tremaining: 3.37s\n",
      "368:\tlearn: 91.4067582\ttotal: 1.97s\tremaining: 3.36s\n",
      "369:\tlearn: 90.8208018\ttotal: 1.97s\tremaining: 3.36s\n",
      "370:\tlearn: 90.6100324\ttotal: 1.98s\tremaining: 3.36s\n",
      "371:\tlearn: 90.5416406\ttotal: 1.99s\tremaining: 3.37s\n",
      "372:\tlearn: 90.0781749\ttotal: 2s\tremaining: 3.37s\n",
      "373:\tlearn: 89.9918230\ttotal: 2.01s\tremaining: 3.36s\n",
      "374:\tlearn: 89.5971240\ttotal: 2.01s\tremaining: 3.35s\n",
      "375:\tlearn: 89.1712836\ttotal: 2.02s\tremaining: 3.35s\n",
      "376:\tlearn: 88.9478352\ttotal: 2.02s\tremaining: 3.34s\n",
      "377:\tlearn: 88.5704869\ttotal: 2.02s\tremaining: 3.33s\n",
      "378:\tlearn: 88.1896982\ttotal: 2.03s\tremaining: 3.33s\n",
      "379:\tlearn: 88.1430946\ttotal: 2.04s\tremaining: 3.32s\n",
      "380:\tlearn: 87.8246858\ttotal: 2.04s\tremaining: 3.31s\n",
      "381:\tlearn: 87.7549420\ttotal: 2.05s\tremaining: 3.31s\n",
      "382:\tlearn: 87.6508914\ttotal: 2.05s\tremaining: 3.31s\n",
      "383:\tlearn: 87.5733324\ttotal: 2.06s\tremaining: 3.3s\n",
      "384:\tlearn: 87.1254592\ttotal: 2.06s\tremaining: 3.29s\n",
      "385:\tlearn: 86.6611000\ttotal: 2.07s\tremaining: 3.29s\n",
      "386:\tlearn: 86.5858840\ttotal: 2.08s\tremaining: 3.29s\n",
      "387:\tlearn: 86.5420699\ttotal: 2.08s\tremaining: 3.29s\n",
      "388:\tlearn: 86.2059388\ttotal: 2.09s\tremaining: 3.28s\n",
      "389:\tlearn: 85.8870143\ttotal: 2.09s\tremaining: 3.27s\n",
      "390:\tlearn: 85.5346994\ttotal: 2.1s\tremaining: 3.27s\n",
      "391:\tlearn: 85.4709307\ttotal: 2.1s\tremaining: 3.27s\n",
      "392:\tlearn: 85.4095711\ttotal: 2.11s\tremaining: 3.26s\n",
      "393:\tlearn: 85.3474870\ttotal: 2.12s\tremaining: 3.25s\n",
      "394:\tlearn: 85.2902352\ttotal: 2.12s\tremaining: 3.25s\n",
      "395:\tlearn: 85.2209219\ttotal: 2.13s\tremaining: 3.25s\n",
      "396:\tlearn: 84.8742623\ttotal: 2.13s\tremaining: 3.24s\n",
      "397:\tlearn: 84.4712724\ttotal: 2.14s\tremaining: 3.23s\n",
      "398:\tlearn: 84.1491314\ttotal: 2.14s\tremaining: 3.23s\n",
      "399:\tlearn: 83.8153329\ttotal: 2.15s\tremaining: 3.23s\n",
      "400:\tlearn: 83.3910468\ttotal: 2.15s\tremaining: 3.22s\n",
      "401:\tlearn: 83.1196273\ttotal: 2.16s\tremaining: 3.21s\n",
      "402:\tlearn: 82.7901071\ttotal: 2.17s\tremaining: 3.21s\n",
      "403:\tlearn: 82.4631185\ttotal: 2.17s\tremaining: 3.2s\n",
      "404:\tlearn: 82.2152149\ttotal: 2.17s\tremaining: 3.19s\n",
      "405:\tlearn: 81.9221602\ttotal: 2.18s\tremaining: 3.19s\n",
      "406:\tlearn: 81.7314765\ttotal: 2.19s\tremaining: 3.19s\n",
      "407:\tlearn: 81.4196618\ttotal: 2.19s\tremaining: 3.18s\n",
      "408:\tlearn: 81.1966491\ttotal: 2.2s\tremaining: 3.17s\n",
      "409:\tlearn: 81.1431099\ttotal: 2.2s\tremaining: 3.17s\n",
      "410:\tlearn: 81.0071659\ttotal: 2.21s\tremaining: 3.16s\n",
      "411:\tlearn: 80.9345363\ttotal: 2.21s\tremaining: 3.15s\n",
      "412:\tlearn: 80.5063901\ttotal: 2.22s\tremaining: 3.15s\n",
      "413:\tlearn: 80.4469678\ttotal: 2.22s\tremaining: 3.15s\n",
      "414:\tlearn: 80.3960476\ttotal: 2.23s\tremaining: 3.14s\n",
      "415:\tlearn: 80.1441316\ttotal: 2.23s\tremaining: 3.13s\n",
      "416:\tlearn: 79.6983382\ttotal: 2.24s\tremaining: 3.13s\n",
      "417:\tlearn: 79.4413244\ttotal: 2.24s\tremaining: 3.12s\n",
      "418:\tlearn: 79.4021423\ttotal: 2.25s\tremaining: 3.12s\n",
      "419:\tlearn: 79.0419615\ttotal: 2.26s\tremaining: 3.12s\n",
      "420:\tlearn: 78.9974222\ttotal: 2.26s\tremaining: 3.11s\n",
      "421:\tlearn: 78.6788655\ttotal: 2.27s\tremaining: 3.11s\n",
      "422:\tlearn: 78.3778264\ttotal: 2.27s\tremaining: 3.1s\n",
      "423:\tlearn: 78.0382346\ttotal: 2.28s\tremaining: 3.1s\n",
      "424:\tlearn: 77.8043380\ttotal: 2.29s\tremaining: 3.09s\n",
      "425:\tlearn: 77.5513095\ttotal: 2.29s\tremaining: 3.09s\n",
      "426:\tlearn: 77.1954554\ttotal: 2.3s\tremaining: 3.08s\n",
      "427:\tlearn: 76.8802433\ttotal: 2.3s\tremaining: 3.08s\n",
      "428:\tlearn: 76.5778022\ttotal: 2.31s\tremaining: 3.07s\n",
      "429:\tlearn: 76.2576847\ttotal: 2.31s\tremaining: 3.06s\n",
      "430:\tlearn: 75.9295158\ttotal: 2.32s\tremaining: 3.06s\n",
      "431:\tlearn: 75.8579932\ttotal: 2.32s\tremaining: 3.05s\n",
      "432:\tlearn: 75.5890998\ttotal: 2.33s\tremaining: 3.05s\n",
      "433:\tlearn: 75.2901134\ttotal: 2.33s\tremaining: 3.04s\n",
      "434:\tlearn: 75.2418549\ttotal: 2.34s\tremaining: 3.04s\n",
      "435:\tlearn: 74.9642092\ttotal: 2.34s\tremaining: 3.03s\n",
      "436:\tlearn: 74.7801195\ttotal: 2.35s\tremaining: 3.03s\n",
      "437:\tlearn: 74.4461586\ttotal: 2.35s\tremaining: 3.02s\n",
      "438:\tlearn: 74.3988246\ttotal: 2.36s\tremaining: 3.02s\n",
      "439:\tlearn: 74.1784953\ttotal: 2.37s\tremaining: 3.01s\n",
      "440:\tlearn: 74.1297172\ttotal: 2.37s\tremaining: 3s\n",
      "441:\tlearn: 74.0945624\ttotal: 2.37s\tremaining: 3s\n",
      "442:\tlearn: 73.7795476\ttotal: 2.38s\tremaining: 2.99s\n",
      "443:\tlearn: 73.4569176\ttotal: 2.38s\tremaining: 2.99s\n",
      "444:\tlearn: 73.4044288\ttotal: 2.39s\tremaining: 2.98s\n",
      "445:\tlearn: 73.1294660\ttotal: 2.4s\tremaining: 2.98s\n",
      "446:\tlearn: 72.7680883\ttotal: 2.4s\tremaining: 2.97s\n",
      "447:\tlearn: 72.6136577\ttotal: 2.4s\tremaining: 2.96s\n",
      "448:\tlearn: 72.5664963\ttotal: 2.41s\tremaining: 2.96s\n",
      "449:\tlearn: 72.5277861\ttotal: 2.41s\tremaining: 2.95s\n",
      "450:\tlearn: 72.5023634\ttotal: 2.42s\tremaining: 2.94s\n",
      "451:\tlearn: 72.4594098\ttotal: 2.42s\tremaining: 2.94s\n",
      "452:\tlearn: 72.4254342\ttotal: 2.43s\tremaining: 2.93s\n",
      "453:\tlearn: 72.3449255\ttotal: 2.43s\tremaining: 2.92s\n",
      "454:\tlearn: 71.9883991\ttotal: 2.44s\tremaining: 2.92s\n",
      "455:\tlearn: 71.6878771\ttotal: 2.44s\tremaining: 2.91s\n",
      "456:\tlearn: 71.3983162\ttotal: 2.45s\tremaining: 2.92s\n",
      "457:\tlearn: 71.0858828\ttotal: 2.46s\tremaining: 2.91s\n",
      "458:\tlearn: 70.9841371\ttotal: 2.46s\tremaining: 2.9s\n",
      "459:\tlearn: 70.9393120\ttotal: 2.47s\tremaining: 2.9s\n",
      "460:\tlearn: 70.6560117\ttotal: 2.48s\tremaining: 2.9s\n",
      "461:\tlearn: 70.4112093\ttotal: 2.48s\tremaining: 2.89s\n",
      "462:\tlearn: 70.2105666\ttotal: 2.49s\tremaining: 2.89s\n",
      "463:\tlearn: 69.8752127\ttotal: 2.49s\tremaining: 2.88s\n",
      "464:\tlearn: 69.4849379\ttotal: 2.5s\tremaining: 2.87s\n",
      "465:\tlearn: 69.2440980\ttotal: 2.5s\tremaining: 2.87s\n",
      "466:\tlearn: 69.2070402\ttotal: 2.51s\tremaining: 2.86s\n",
      "467:\tlearn: 68.8485640\ttotal: 2.51s\tremaining: 2.85s\n",
      "468:\tlearn: 68.7732903\ttotal: 2.52s\tremaining: 2.85s\n",
      "469:\tlearn: 68.5828603\ttotal: 2.52s\tremaining: 2.84s\n",
      "470:\tlearn: 68.2550692\ttotal: 2.52s\tremaining: 2.84s\n",
      "471:\tlearn: 68.1971349\ttotal: 2.53s\tremaining: 2.83s\n",
      "472:\tlearn: 67.8668809\ttotal: 2.53s\tremaining: 2.82s\n",
      "473:\tlearn: 67.5889465\ttotal: 2.54s\tremaining: 2.82s\n",
      "474:\tlearn: 67.3346816\ttotal: 2.54s\tremaining: 2.81s\n",
      "475:\tlearn: 67.2939272\ttotal: 2.55s\tremaining: 2.81s\n",
      "476:\tlearn: 67.2466104\ttotal: 2.55s\tremaining: 2.8s\n",
      "477:\tlearn: 66.9077547\ttotal: 2.56s\tremaining: 2.79s\n",
      "478:\tlearn: 66.8719641\ttotal: 2.56s\tremaining: 2.79s\n",
      "479:\tlearn: 66.6889976\ttotal: 2.57s\tremaining: 2.78s\n",
      "480:\tlearn: 66.3900384\ttotal: 2.57s\tremaining: 2.77s\n",
      "481:\tlearn: 66.1199446\ttotal: 2.58s\tremaining: 2.77s\n",
      "482:\tlearn: 66.0608413\ttotal: 2.58s\tremaining: 2.76s\n",
      "483:\tlearn: 65.7406864\ttotal: 2.59s\tremaining: 2.76s\n",
      "484:\tlearn: 65.5294078\ttotal: 2.59s\tremaining: 2.75s\n",
      "485:\tlearn: 65.5002708\ttotal: 2.6s\tremaining: 2.75s\n",
      "486:\tlearn: 65.2512281\ttotal: 2.6s\tremaining: 2.74s\n",
      "487:\tlearn: 64.9678966\ttotal: 2.61s\tremaining: 2.73s\n",
      "488:\tlearn: 64.9195947\ttotal: 2.61s\tremaining: 2.73s\n",
      "489:\tlearn: 64.6761955\ttotal: 2.62s\tremaining: 2.72s\n",
      "490:\tlearn: 64.3869643\ttotal: 2.62s\tremaining: 2.72s\n",
      "491:\tlearn: 64.2174493\ttotal: 2.63s\tremaining: 2.71s\n",
      "492:\tlearn: 64.1834768\ttotal: 2.63s\tremaining: 2.71s\n",
      "493:\tlearn: 64.0934726\ttotal: 2.65s\tremaining: 2.71s\n",
      "494:\tlearn: 64.0631951\ttotal: 2.65s\tremaining: 2.71s\n",
      "495:\tlearn: 63.8976073\ttotal: 2.66s\tremaining: 2.7s\n",
      "496:\tlearn: 63.6047983\ttotal: 2.66s\tremaining: 2.7s\n",
      "497:\tlearn: 63.4229648\ttotal: 2.67s\tremaining: 2.69s\n",
      "498:\tlearn: 63.1190066\ttotal: 2.67s\tremaining: 2.69s\n",
      "499:\tlearn: 63.0819924\ttotal: 2.68s\tremaining: 2.68s\n",
      "500:\tlearn: 62.8358248\ttotal: 2.68s\tremaining: 2.67s\n",
      "501:\tlearn: 62.6727266\ttotal: 2.69s\tremaining: 2.67s\n",
      "502:\tlearn: 62.6420065\ttotal: 2.69s\tremaining: 2.66s\n",
      "503:\tlearn: 62.5561378\ttotal: 2.7s\tremaining: 2.66s\n",
      "504:\tlearn: 62.2457048\ttotal: 2.71s\tremaining: 2.65s\n",
      "505:\tlearn: 62.2115579\ttotal: 2.71s\tremaining: 2.65s\n",
      "506:\tlearn: 62.0653163\ttotal: 2.72s\tremaining: 2.64s\n",
      "507:\tlearn: 61.8168775\ttotal: 2.72s\tremaining: 2.63s\n",
      "508:\tlearn: 61.7854596\ttotal: 2.73s\tremaining: 2.63s\n",
      "509:\tlearn: 61.5235079\ttotal: 2.73s\tremaining: 2.62s\n",
      "510:\tlearn: 61.2781645\ttotal: 2.74s\tremaining: 2.62s\n",
      "511:\tlearn: 61.2408106\ttotal: 2.74s\tremaining: 2.61s\n",
      "512:\tlearn: 61.2022925\ttotal: 2.75s\tremaining: 2.61s\n",
      "513:\tlearn: 60.8816847\ttotal: 2.75s\tremaining: 2.6s\n",
      "514:\tlearn: 60.7407348\ttotal: 2.76s\tremaining: 2.6s\n",
      "515:\tlearn: 60.5531208\ttotal: 2.76s\tremaining: 2.59s\n",
      "516:\tlearn: 60.3238383\ttotal: 2.77s\tremaining: 2.58s\n",
      "517:\tlearn: 60.0788272\ttotal: 2.77s\tremaining: 2.58s\n",
      "518:\tlearn: 59.8730218\ttotal: 2.78s\tremaining: 2.57s\n",
      "519:\tlearn: 59.6419889\ttotal: 2.78s\tremaining: 2.57s\n",
      "520:\tlearn: 59.3066604\ttotal: 2.79s\tremaining: 2.56s\n",
      "521:\tlearn: 59.0571484\ttotal: 2.79s\tremaining: 2.55s\n",
      "522:\tlearn: 58.7854291\ttotal: 2.79s\tremaining: 2.55s\n",
      "523:\tlearn: 58.7249814\ttotal: 2.8s\tremaining: 2.54s\n",
      "524:\tlearn: 58.4488875\ttotal: 2.8s\tremaining: 2.54s\n",
      "525:\tlearn: 58.2279388\ttotal: 2.81s\tremaining: 2.53s\n",
      "526:\tlearn: 58.2006809\ttotal: 2.82s\tremaining: 2.53s\n",
      "527:\tlearn: 58.1682756\ttotal: 2.82s\tremaining: 2.52s\n",
      "528:\tlearn: 57.9485564\ttotal: 2.83s\tremaining: 2.52s\n",
      "529:\tlearn: 57.8158832\ttotal: 2.83s\tremaining: 2.51s\n",
      "530:\tlearn: 57.7731899\ttotal: 2.83s\tremaining: 2.5s\n",
      "531:\tlearn: 57.6938292\ttotal: 2.84s\tremaining: 2.5s\n",
      "532:\tlearn: 57.4980202\ttotal: 2.84s\tremaining: 2.49s\n",
      "533:\tlearn: 57.2120614\ttotal: 2.85s\tremaining: 2.48s\n",
      "534:\tlearn: 56.9535900\ttotal: 2.85s\tremaining: 2.48s\n",
      "535:\tlearn: 56.9238688\ttotal: 2.86s\tremaining: 2.47s\n",
      "536:\tlearn: 56.8622152\ttotal: 2.86s\tremaining: 2.47s\n",
      "537:\tlearn: 56.8036886\ttotal: 2.87s\tremaining: 2.46s\n",
      "538:\tlearn: 56.7762110\ttotal: 2.87s\tremaining: 2.46s\n",
      "539:\tlearn: 56.7411697\ttotal: 2.88s\tremaining: 2.45s\n",
      "540:\tlearn: 56.6905399\ttotal: 2.88s\tremaining: 2.44s\n",
      "541:\tlearn: 56.4952634\ttotal: 2.89s\tremaining: 2.44s\n",
      "542:\tlearn: 56.2611756\ttotal: 2.89s\tremaining: 2.44s\n",
      "543:\tlearn: 56.0155964\ttotal: 2.9s\tremaining: 2.43s\n",
      "544:\tlearn: 55.9430534\ttotal: 2.9s\tremaining: 2.42s\n",
      "545:\tlearn: 55.7689590\ttotal: 2.91s\tremaining: 2.42s\n",
      "546:\tlearn: 55.7524018\ttotal: 2.92s\tremaining: 2.41s\n",
      "547:\tlearn: 55.5197004\ttotal: 2.92s\tremaining: 2.41s\n",
      "548:\tlearn: 55.4007427\ttotal: 2.92s\tremaining: 2.4s\n",
      "549:\tlearn: 55.1522928\ttotal: 2.93s\tremaining: 2.4s\n",
      "550:\tlearn: 54.9731876\ttotal: 2.93s\tremaining: 2.39s\n",
      "551:\tlearn: 54.7305926\ttotal: 2.94s\tremaining: 2.38s\n",
      "552:\tlearn: 54.5235633\ttotal: 2.94s\tremaining: 2.38s\n",
      "553:\tlearn: 54.3526411\ttotal: 2.95s\tremaining: 2.37s\n",
      "554:\tlearn: 54.3274795\ttotal: 2.95s\tremaining: 2.37s\n",
      "555:\tlearn: 54.1389235\ttotal: 2.96s\tremaining: 2.36s\n",
      "556:\tlearn: 53.9211904\ttotal: 2.97s\tremaining: 2.36s\n",
      "557:\tlearn: 53.8219128\ttotal: 2.97s\tremaining: 2.35s\n",
      "558:\tlearn: 53.6304948\ttotal: 2.98s\tremaining: 2.35s\n",
      "559:\tlearn: 53.6036520\ttotal: 2.98s\tremaining: 2.34s\n",
      "560:\tlearn: 53.3514789\ttotal: 2.99s\tremaining: 2.34s\n",
      "561:\tlearn: 53.1339870\ttotal: 2.99s\tremaining: 2.33s\n",
      "562:\tlearn: 53.0917672\ttotal: 2.99s\tremaining: 2.32s\n",
      "563:\tlearn: 52.9406897\ttotal: 3s\tremaining: 2.32s\n",
      "564:\tlearn: 52.8114721\ttotal: 3s\tremaining: 2.31s\n",
      "565:\tlearn: 52.4972621\ttotal: 3.01s\tremaining: 2.31s\n",
      "566:\tlearn: 52.3835422\ttotal: 3.02s\tremaining: 2.31s\n",
      "567:\tlearn: 52.2561525\ttotal: 3.02s\tremaining: 2.3s\n",
      "568:\tlearn: 52.0963075\ttotal: 3.03s\tremaining: 2.29s\n",
      "569:\tlearn: 51.9121457\ttotal: 3.04s\tremaining: 2.29s\n",
      "570:\tlearn: 51.7964722\ttotal: 3.04s\tremaining: 2.28s\n",
      "571:\tlearn: 51.6139213\ttotal: 3.04s\tremaining: 2.28s\n",
      "572:\tlearn: 51.5808929\ttotal: 3.05s\tremaining: 2.27s\n",
      "573:\tlearn: 51.3999239\ttotal: 3.05s\tremaining: 2.27s\n",
      "574:\tlearn: 51.2367586\ttotal: 3.06s\tremaining: 2.26s\n",
      "575:\tlearn: 51.2141112\ttotal: 3.06s\tremaining: 2.25s\n",
      "576:\tlearn: 51.1785677\ttotal: 3.07s\tremaining: 2.25s\n",
      "577:\tlearn: 51.0663238\ttotal: 3.07s\tremaining: 2.24s\n",
      "578:\tlearn: 50.9003608\ttotal: 3.08s\tremaining: 2.24s\n",
      "579:\tlearn: 50.6987762\ttotal: 3.08s\tremaining: 2.23s\n",
      "580:\tlearn: 50.6699517\ttotal: 3.08s\tremaining: 2.23s\n",
      "581:\tlearn: 50.4168644\ttotal: 3.09s\tremaining: 2.22s\n",
      "582:\tlearn: 50.2750545\ttotal: 3.1s\tremaining: 2.21s\n",
      "583:\tlearn: 50.0747817\ttotal: 3.1s\tremaining: 2.21s\n",
      "584:\tlearn: 49.9878529\ttotal: 3.1s\tremaining: 2.2s\n",
      "585:\tlearn: 49.7784547\ttotal: 3.11s\tremaining: 2.2s\n",
      "586:\tlearn: 49.7555818\ttotal: 3.11s\tremaining: 2.19s\n",
      "587:\tlearn: 49.5722873\ttotal: 3.12s\tremaining: 2.19s\n",
      "588:\tlearn: 49.3899104\ttotal: 3.12s\tremaining: 2.18s\n",
      "589:\tlearn: 49.2455478\ttotal: 3.13s\tremaining: 2.17s\n",
      "590:\tlearn: 49.0422833\ttotal: 3.13s\tremaining: 2.17s\n",
      "591:\tlearn: 48.8556036\ttotal: 3.14s\tremaining: 2.16s\n",
      "592:\tlearn: 48.7626627\ttotal: 3.14s\tremaining: 2.16s\n",
      "593:\tlearn: 48.7225524\ttotal: 3.15s\tremaining: 2.15s\n",
      "594:\tlearn: 48.6958399\ttotal: 3.15s\tremaining: 2.15s\n",
      "595:\tlearn: 48.6519912\ttotal: 3.16s\tremaining: 2.14s\n",
      "596:\tlearn: 48.5982870\ttotal: 3.16s\tremaining: 2.13s\n",
      "597:\tlearn: 48.4433004\ttotal: 3.17s\tremaining: 2.13s\n",
      "598:\tlearn: 48.4220685\ttotal: 3.17s\tremaining: 2.12s\n",
      "599:\tlearn: 48.2931759\ttotal: 3.18s\tremaining: 2.12s\n",
      "600:\tlearn: 48.1160958\ttotal: 3.18s\tremaining: 2.11s\n",
      "601:\tlearn: 47.9760584\ttotal: 3.19s\tremaining: 2.11s\n",
      "602:\tlearn: 47.8648561\ttotal: 3.19s\tremaining: 2.1s\n",
      "603:\tlearn: 47.8430154\ttotal: 3.19s\tremaining: 2.09s\n",
      "604:\tlearn: 47.6299783\ttotal: 3.21s\tremaining: 2.09s\n",
      "605:\tlearn: 47.3811416\ttotal: 3.21s\tremaining: 2.09s\n",
      "606:\tlearn: 47.2197404\ttotal: 3.21s\tremaining: 2.08s\n",
      "607:\tlearn: 47.0878264\ttotal: 3.22s\tremaining: 2.08s\n",
      "608:\tlearn: 47.0533909\ttotal: 3.23s\tremaining: 2.07s\n",
      "609:\tlearn: 46.9246678\ttotal: 3.23s\tremaining: 2.06s\n",
      "610:\tlearn: 46.9053536\ttotal: 3.23s\tremaining: 2.06s\n",
      "611:\tlearn: 46.7569892\ttotal: 3.24s\tremaining: 2.05s\n",
      "612:\tlearn: 46.6480947\ttotal: 3.25s\tremaining: 2.05s\n",
      "613:\tlearn: 46.5478896\ttotal: 3.25s\tremaining: 2.04s\n",
      "614:\tlearn: 46.3924714\ttotal: 3.25s\tremaining: 2.04s\n",
      "615:\tlearn: 46.3480824\ttotal: 3.26s\tremaining: 2.03s\n",
      "616:\tlearn: 46.2040251\ttotal: 3.26s\tremaining: 2.02s\n",
      "617:\tlearn: 46.0237830\ttotal: 3.27s\tremaining: 2.02s\n",
      "618:\tlearn: 45.9179180\ttotal: 3.27s\tremaining: 2.01s\n",
      "619:\tlearn: 45.9014698\ttotal: 3.28s\tremaining: 2.01s\n",
      "620:\tlearn: 45.8828891\ttotal: 3.28s\tremaining: 2s\n",
      "621:\tlearn: 45.7460717\ttotal: 3.29s\tremaining: 2s\n",
      "622:\tlearn: 45.7201341\ttotal: 3.29s\tremaining: 1.99s\n",
      "623:\tlearn: 45.5727295\ttotal: 3.3s\tremaining: 1.99s\n",
      "624:\tlearn: 45.5166931\ttotal: 3.3s\tremaining: 1.98s\n",
      "625:\tlearn: 45.4948632\ttotal: 3.31s\tremaining: 1.98s\n",
      "626:\tlearn: 45.2680331\ttotal: 3.31s\tremaining: 1.97s\n",
      "627:\tlearn: 45.1313985\ttotal: 3.32s\tremaining: 1.96s\n",
      "628:\tlearn: 44.9665216\ttotal: 3.32s\tremaining: 1.96s\n",
      "629:\tlearn: 44.8190508\ttotal: 3.33s\tremaining: 1.95s\n",
      "630:\tlearn: 44.7926169\ttotal: 3.33s\tremaining: 1.95s\n",
      "631:\tlearn: 44.6353952\ttotal: 3.34s\tremaining: 1.94s\n",
      "632:\tlearn: 44.4961880\ttotal: 3.34s\tremaining: 1.94s\n",
      "633:\tlearn: 44.3601140\ttotal: 3.35s\tremaining: 1.93s\n",
      "634:\tlearn: 44.1901971\ttotal: 3.35s\tremaining: 1.93s\n",
      "635:\tlearn: 44.1084765\ttotal: 3.36s\tremaining: 1.92s\n",
      "636:\tlearn: 43.9159093\ttotal: 3.36s\tremaining: 1.92s\n",
      "637:\tlearn: 43.7790206\ttotal: 3.37s\tremaining: 1.91s\n",
      "638:\tlearn: 43.6666937\ttotal: 3.37s\tremaining: 1.9s\n",
      "639:\tlearn: 43.5721958\ttotal: 3.38s\tremaining: 1.9s\n",
      "640:\tlearn: 43.4426581\ttotal: 3.38s\tremaining: 1.89s\n",
      "641:\tlearn: 43.3514620\ttotal: 3.38s\tremaining: 1.89s\n",
      "642:\tlearn: 43.1692171\ttotal: 3.39s\tremaining: 1.88s\n",
      "643:\tlearn: 43.0830110\ttotal: 3.39s\tremaining: 1.88s\n",
      "644:\tlearn: 42.9745805\ttotal: 3.4s\tremaining: 1.87s\n",
      "645:\tlearn: 42.9451596\ttotal: 3.4s\tremaining: 1.86s\n",
      "646:\tlearn: 42.7901167\ttotal: 3.41s\tremaining: 1.86s\n",
      "647:\tlearn: 42.7600980\ttotal: 3.41s\tremaining: 1.85s\n",
      "648:\tlearn: 42.7414396\ttotal: 3.42s\tremaining: 1.85s\n",
      "649:\tlearn: 42.6254884\ttotal: 3.42s\tremaining: 1.84s\n",
      "650:\tlearn: 42.4514498\ttotal: 3.42s\tremaining: 1.83s\n",
      "651:\tlearn: 42.4289022\ttotal: 3.43s\tremaining: 1.83s\n",
      "652:\tlearn: 42.3261997\ttotal: 3.44s\tremaining: 1.83s\n",
      "653:\tlearn: 42.1630358\ttotal: 3.44s\tremaining: 1.82s\n",
      "654:\tlearn: 42.0118094\ttotal: 3.45s\tremaining: 1.82s\n",
      "655:\tlearn: 41.8439543\ttotal: 3.46s\tremaining: 1.81s\n",
      "656:\tlearn: 41.7403957\ttotal: 3.46s\tremaining: 1.81s\n",
      "657:\tlearn: 41.6267013\ttotal: 3.46s\tremaining: 1.8s\n",
      "658:\tlearn: 41.5227448\ttotal: 3.47s\tremaining: 1.79s\n",
      "659:\tlearn: 41.3713523\ttotal: 3.47s\tremaining: 1.79s\n",
      "660:\tlearn: 41.2042654\ttotal: 3.48s\tremaining: 1.78s\n",
      "661:\tlearn: 41.1321838\ttotal: 3.48s\tremaining: 1.78s\n",
      "662:\tlearn: 41.0141468\ttotal: 3.49s\tremaining: 1.77s\n",
      "663:\tlearn: 41.0001607\ttotal: 3.49s\tremaining: 1.77s\n",
      "664:\tlearn: 40.9542032\ttotal: 3.5s\tremaining: 1.76s\n",
      "665:\tlearn: 40.8960342\ttotal: 3.5s\tremaining: 1.75s\n",
      "666:\tlearn: 40.7863467\ttotal: 3.5s\tremaining: 1.75s\n",
      "667:\tlearn: 40.6762125\ttotal: 3.51s\tremaining: 1.74s\n",
      "668:\tlearn: 40.6607018\ttotal: 3.51s\tremaining: 1.74s\n",
      "669:\tlearn: 40.5226800\ttotal: 3.52s\tremaining: 1.73s\n",
      "670:\tlearn: 40.4128900\ttotal: 3.52s\tremaining: 1.73s\n",
      "671:\tlearn: 40.2932908\ttotal: 3.53s\tremaining: 1.72s\n",
      "672:\tlearn: 40.2766975\ttotal: 3.53s\tremaining: 1.72s\n",
      "673:\tlearn: 40.2032960\ttotal: 3.54s\tremaining: 1.71s\n",
      "674:\tlearn: 40.1337909\ttotal: 3.54s\tremaining: 1.71s\n",
      "675:\tlearn: 39.9992371\ttotal: 3.54s\tremaining: 1.7s\n",
      "676:\tlearn: 39.8838180\ttotal: 3.55s\tremaining: 1.69s\n",
      "677:\tlearn: 39.8715671\ttotal: 3.55s\tremaining: 1.69s\n",
      "678:\tlearn: 39.7659638\ttotal: 3.56s\tremaining: 1.68s\n",
      "679:\tlearn: 39.6347962\ttotal: 3.56s\tremaining: 1.68s\n",
      "680:\tlearn: 39.5079484\ttotal: 3.57s\tremaining: 1.67s\n",
      "681:\tlearn: 39.3996078\ttotal: 3.57s\tremaining: 1.67s\n",
      "682:\tlearn: 39.2965526\ttotal: 3.58s\tremaining: 1.66s\n",
      "683:\tlearn: 39.1555662\ttotal: 3.58s\tremaining: 1.65s\n",
      "684:\tlearn: 39.0423716\ttotal: 3.59s\tremaining: 1.65s\n",
      "685:\tlearn: 38.9258159\ttotal: 3.59s\tremaining: 1.64s\n",
      "686:\tlearn: 38.7807017\ttotal: 3.6s\tremaining: 1.64s\n",
      "687:\tlearn: 38.6375406\ttotal: 3.6s\tremaining: 1.63s\n",
      "688:\tlearn: 38.5545881\ttotal: 3.6s\tremaining: 1.63s\n",
      "689:\tlearn: 38.5446648\ttotal: 3.61s\tremaining: 1.62s\n",
      "690:\tlearn: 38.5016745\ttotal: 3.61s\tremaining: 1.62s\n",
      "691:\tlearn: 38.4857194\ttotal: 3.62s\tremaining: 1.61s\n",
      "692:\tlearn: 38.3497683\ttotal: 3.62s\tremaining: 1.6s\n",
      "693:\tlearn: 38.3064367\ttotal: 3.63s\tremaining: 1.6s\n",
      "694:\tlearn: 38.1483847\ttotal: 3.64s\tremaining: 1.6s\n",
      "695:\tlearn: 37.9993387\ttotal: 3.64s\tremaining: 1.59s\n",
      "696:\tlearn: 37.9154067\ttotal: 3.65s\tremaining: 1.58s\n",
      "697:\tlearn: 37.8267684\ttotal: 3.65s\tremaining: 1.58s\n",
      "698:\tlearn: 37.8157509\ttotal: 3.66s\tremaining: 1.57s\n",
      "699:\tlearn: 37.6556270\ttotal: 3.66s\tremaining: 1.57s\n",
      "700:\tlearn: 37.5556978\ttotal: 3.67s\tremaining: 1.56s\n",
      "701:\tlearn: 37.5369009\ttotal: 3.67s\tremaining: 1.56s\n",
      "702:\tlearn: 37.3977189\ttotal: 3.67s\tremaining: 1.55s\n",
      "703:\tlearn: 37.3292837\ttotal: 3.68s\tremaining: 1.55s\n",
      "704:\tlearn: 37.2043844\ttotal: 3.69s\tremaining: 1.54s\n",
      "705:\tlearn: 37.0505249\ttotal: 3.69s\tremaining: 1.54s\n",
      "706:\tlearn: 36.8989420\ttotal: 3.69s\tremaining: 1.53s\n",
      "707:\tlearn: 36.8862672\ttotal: 3.7s\tremaining: 1.52s\n",
      "708:\tlearn: 36.8670508\ttotal: 3.7s\tremaining: 1.52s\n",
      "709:\tlearn: 36.7272798\ttotal: 3.71s\tremaining: 1.51s\n",
      "710:\tlearn: 36.6379266\ttotal: 3.71s\tremaining: 1.51s\n",
      "711:\tlearn: 36.5549251\ttotal: 3.72s\tremaining: 1.5s\n",
      "712:\tlearn: 36.4197804\ttotal: 3.73s\tremaining: 1.5s\n",
      "713:\tlearn: 36.3217248\ttotal: 3.73s\tremaining: 1.49s\n",
      "714:\tlearn: 36.1877842\ttotal: 3.73s\tremaining: 1.49s\n",
      "715:\tlearn: 36.0654440\ttotal: 3.74s\tremaining: 1.48s\n",
      "716:\tlearn: 35.9709335\ttotal: 3.74s\tremaining: 1.48s\n",
      "717:\tlearn: 35.9467908\ttotal: 3.75s\tremaining: 1.47s\n",
      "718:\tlearn: 35.8894760\ttotal: 3.75s\tremaining: 1.47s\n",
      "719:\tlearn: 35.7676196\ttotal: 3.76s\tremaining: 1.46s\n",
      "720:\tlearn: 35.6643682\ttotal: 3.76s\tremaining: 1.46s\n",
      "721:\tlearn: 35.6489443\ttotal: 3.77s\tremaining: 1.45s\n",
      "722:\tlearn: 35.5549723\ttotal: 3.77s\tremaining: 1.44s\n",
      "723:\tlearn: 35.5415007\ttotal: 3.77s\tremaining: 1.44s\n",
      "724:\tlearn: 35.4470824\ttotal: 3.78s\tremaining: 1.43s\n",
      "725:\tlearn: 35.3942645\ttotal: 3.78s\tremaining: 1.43s\n",
      "726:\tlearn: 35.3095615\ttotal: 3.79s\tremaining: 1.42s\n",
      "727:\tlearn: 35.2908493\ttotal: 3.79s\tremaining: 1.42s\n",
      "728:\tlearn: 35.2264385\ttotal: 3.8s\tremaining: 1.41s\n",
      "729:\tlearn: 35.1228503\ttotal: 3.8s\tremaining: 1.41s\n",
      "730:\tlearn: 35.0422880\ttotal: 3.81s\tremaining: 1.4s\n",
      "731:\tlearn: 34.9467523\ttotal: 3.81s\tremaining: 1.4s\n",
      "732:\tlearn: 34.8357444\ttotal: 3.82s\tremaining: 1.39s\n",
      "733:\tlearn: 34.6738425\ttotal: 3.82s\tremaining: 1.39s\n",
      "734:\tlearn: 34.5503248\ttotal: 3.83s\tremaining: 1.38s\n",
      "735:\tlearn: 34.4447663\ttotal: 3.83s\tremaining: 1.38s\n",
      "736:\tlearn: 34.3695798\ttotal: 3.84s\tremaining: 1.37s\n",
      "737:\tlearn: 34.3378176\ttotal: 3.84s\tremaining: 1.36s\n",
      "738:\tlearn: 34.2504952\ttotal: 3.85s\tremaining: 1.36s\n",
      "739:\tlearn: 34.1062112\ttotal: 3.85s\tremaining: 1.35s\n",
      "740:\tlearn: 33.9675891\ttotal: 3.86s\tremaining: 1.35s\n",
      "741:\tlearn: 33.8787046\ttotal: 3.86s\tremaining: 1.34s\n",
      "742:\tlearn: 33.8126647\ttotal: 3.87s\tremaining: 1.34s\n",
      "743:\tlearn: 33.7871762\ttotal: 3.88s\tremaining: 1.33s\n",
      "744:\tlearn: 33.7736737\ttotal: 3.89s\tremaining: 1.33s\n",
      "745:\tlearn: 33.7567305\ttotal: 3.89s\tremaining: 1.32s\n",
      "746:\tlearn: 33.6805320\ttotal: 3.9s\tremaining: 1.32s\n",
      "747:\tlearn: 33.5473440\ttotal: 3.9s\tremaining: 1.31s\n",
      "748:\tlearn: 33.5125785\ttotal: 3.91s\tremaining: 1.31s\n",
      "749:\tlearn: 33.3854900\ttotal: 3.91s\tremaining: 1.3s\n",
      "750:\tlearn: 33.2786428\ttotal: 3.92s\tremaining: 1.3s\n",
      "751:\tlearn: 33.2095295\ttotal: 3.92s\tremaining: 1.29s\n",
      "752:\tlearn: 33.1286507\ttotal: 3.93s\tremaining: 1.29s\n",
      "753:\tlearn: 33.1024473\ttotal: 3.93s\tremaining: 1.28s\n",
      "754:\tlearn: 32.9878047\ttotal: 3.94s\tremaining: 1.28s\n",
      "755:\tlearn: 32.9135458\ttotal: 3.94s\tremaining: 1.27s\n",
      "756:\tlearn: 32.8426072\ttotal: 3.95s\tremaining: 1.27s\n",
      "757:\tlearn: 32.7752146\ttotal: 3.95s\tremaining: 1.26s\n",
      "758:\tlearn: 32.6610549\ttotal: 3.96s\tremaining: 1.25s\n",
      "759:\tlearn: 32.5744677\ttotal: 3.96s\tremaining: 1.25s\n",
      "760:\tlearn: 32.5207971\ttotal: 3.96s\tremaining: 1.25s\n",
      "761:\tlearn: 32.4261406\ttotal: 3.97s\tremaining: 1.24s\n",
      "762:\tlearn: 32.4174143\ttotal: 3.98s\tremaining: 1.23s\n",
      "763:\tlearn: 32.2756632\ttotal: 3.98s\tremaining: 1.23s\n",
      "764:\tlearn: 32.2495208\ttotal: 3.98s\tremaining: 1.22s\n",
      "765:\tlearn: 32.1387235\ttotal: 3.99s\tremaining: 1.22s\n",
      "766:\tlearn: 32.0075588\ttotal: 4s\tremaining: 1.21s\n",
      "767:\tlearn: 31.9969511\ttotal: 4s\tremaining: 1.21s\n",
      "768:\tlearn: 31.9806085\ttotal: 4s\tremaining: 1.2s\n",
      "769:\tlearn: 31.9685512\ttotal: 4.01s\tremaining: 1.2s\n",
      "770:\tlearn: 31.9220746\ttotal: 4.01s\tremaining: 1.19s\n",
      "771:\tlearn: 31.8532972\ttotal: 4.02s\tremaining: 1.19s\n",
      "772:\tlearn: 31.7168959\ttotal: 4.03s\tremaining: 1.18s\n",
      "773:\tlearn: 31.7017206\ttotal: 4.03s\tremaining: 1.18s\n",
      "774:\tlearn: 31.5830839\ttotal: 4.03s\tremaining: 1.17s\n",
      "775:\tlearn: 31.4633285\ttotal: 4.04s\tremaining: 1.17s\n",
      "776:\tlearn: 31.3599937\ttotal: 4.04s\tremaining: 1.16s\n",
      "777:\tlearn: 31.3079937\ttotal: 4.05s\tremaining: 1.16s\n",
      "778:\tlearn: 31.2208179\ttotal: 4.06s\tremaining: 1.15s\n",
      "779:\tlearn: 31.1804104\ttotal: 4.06s\tremaining: 1.15s\n",
      "780:\tlearn: 31.0681489\ttotal: 4.07s\tremaining: 1.14s\n",
      "781:\tlearn: 31.0242221\ttotal: 4.07s\tremaining: 1.13s\n",
      "782:\tlearn: 30.9391460\ttotal: 4.08s\tremaining: 1.13s\n",
      "783:\tlearn: 30.8656249\ttotal: 4.08s\tremaining: 1.12s\n",
      "784:\tlearn: 30.7358153\ttotal: 4.08s\tremaining: 1.12s\n",
      "785:\tlearn: 30.6417958\ttotal: 4.09s\tremaining: 1.11s\n",
      "786:\tlearn: 30.5608038\ttotal: 4.09s\tremaining: 1.11s\n",
      "787:\tlearn: 30.5110318\ttotal: 4.1s\tremaining: 1.1s\n",
      "788:\tlearn: 30.4930660\ttotal: 4.1s\tremaining: 1.1s\n",
      "789:\tlearn: 30.3997017\ttotal: 4.11s\tremaining: 1.09s\n",
      "790:\tlearn: 30.3877126\ttotal: 4.11s\tremaining: 1.09s\n",
      "791:\tlearn: 30.2948031\ttotal: 4.12s\tremaining: 1.08s\n",
      "792:\tlearn: 30.2808735\ttotal: 4.12s\tremaining: 1.08s\n",
      "793:\tlearn: 30.2195138\ttotal: 4.13s\tremaining: 1.07s\n",
      "794:\tlearn: 30.1993185\ttotal: 4.13s\tremaining: 1.06s\n",
      "795:\tlearn: 30.1908635\ttotal: 4.13s\tremaining: 1.06s\n",
      "796:\tlearn: 30.0720601\ttotal: 4.14s\tremaining: 1.05s\n",
      "797:\tlearn: 29.9740417\ttotal: 4.14s\tremaining: 1.05s\n",
      "798:\tlearn: 29.9629111\ttotal: 4.15s\tremaining: 1.04s\n",
      "799:\tlearn: 29.9310858\ttotal: 4.16s\tremaining: 1.04s\n",
      "800:\tlearn: 29.9143062\ttotal: 4.16s\tremaining: 1.03s\n",
      "801:\tlearn: 29.8832572\ttotal: 4.17s\tremaining: 1.03s\n",
      "802:\tlearn: 29.8653653\ttotal: 4.17s\tremaining: 1.02s\n",
      "803:\tlearn: 29.7719586\ttotal: 4.17s\tremaining: 1.02s\n",
      "804:\tlearn: 29.7417802\ttotal: 4.18s\tremaining: 1.01s\n",
      "805:\tlearn: 29.6741547\ttotal: 4.18s\tremaining: 1.01s\n",
      "806:\tlearn: 29.6563118\ttotal: 4.19s\tremaining: 1s\n",
      "807:\tlearn: 29.5993465\ttotal: 4.19s\tremaining: 996ms\n",
      "808:\tlearn: 29.4989494\ttotal: 4.2s\tremaining: 991ms\n",
      "809:\tlearn: 29.4884695\ttotal: 4.2s\tremaining: 986ms\n",
      "810:\tlearn: 29.3681228\ttotal: 4.21s\tremaining: 981ms\n",
      "811:\tlearn: 29.2740470\ttotal: 4.21s\tremaining: 975ms\n",
      "812:\tlearn: 29.1383132\ttotal: 4.22s\tremaining: 970ms\n",
      "813:\tlearn: 29.0460422\ttotal: 4.22s\tremaining: 965ms\n",
      "814:\tlearn: 28.9547495\ttotal: 4.23s\tremaining: 959ms\n",
      "815:\tlearn: 28.9269790\ttotal: 4.24s\tremaining: 957ms\n",
      "816:\tlearn: 28.8240298\ttotal: 4.25s\tremaining: 952ms\n",
      "817:\tlearn: 28.7373258\ttotal: 4.25s\tremaining: 947ms\n",
      "818:\tlearn: 28.7121995\ttotal: 4.26s\tremaining: 941ms\n",
      "819:\tlearn: 28.5765941\ttotal: 4.26s\tremaining: 936ms\n",
      "820:\tlearn: 28.5048349\ttotal: 4.27s\tremaining: 931ms\n",
      "821:\tlearn: 28.4228620\ttotal: 4.27s\tremaining: 925ms\n",
      "822:\tlearn: 28.3663685\ttotal: 4.28s\tremaining: 920ms\n",
      "823:\tlearn: 28.3104025\ttotal: 4.28s\tremaining: 914ms\n",
      "824:\tlearn: 28.1909273\ttotal: 4.29s\tremaining: 909ms\n",
      "825:\tlearn: 28.1049440\ttotal: 4.29s\tremaining: 904ms\n",
      "826:\tlearn: 28.0036189\ttotal: 4.29s\tremaining: 898ms\n",
      "827:\tlearn: 27.9203400\ttotal: 4.3s\tremaining: 893ms\n",
      "828:\tlearn: 27.9071889\ttotal: 4.3s\tremaining: 888ms\n",
      "829:\tlearn: 27.8319405\ttotal: 4.31s\tremaining: 882ms\n",
      "830:\tlearn: 27.6658144\ttotal: 4.31s\tremaining: 877ms\n",
      "831:\tlearn: 27.5705244\ttotal: 4.32s\tremaining: 872ms\n",
      "832:\tlearn: 27.5516209\ttotal: 4.32s\tremaining: 867ms\n",
      "833:\tlearn: 27.4771506\ttotal: 4.33s\tremaining: 861ms\n",
      "834:\tlearn: 27.4144211\ttotal: 4.33s\tremaining: 856ms\n",
      "835:\tlearn: 27.3174180\ttotal: 4.34s\tremaining: 851ms\n",
      "836:\tlearn: 27.2368299\ttotal: 4.34s\tremaining: 845ms\n",
      "837:\tlearn: 27.1343800\ttotal: 4.34s\tremaining: 840ms\n",
      "838:\tlearn: 27.1249248\ttotal: 4.35s\tremaining: 835ms\n",
      "839:\tlearn: 27.0391675\ttotal: 4.35s\tremaining: 829ms\n",
      "840:\tlearn: 27.0182203\ttotal: 4.36s\tremaining: 824ms\n",
      "841:\tlearn: 26.9530890\ttotal: 4.36s\tremaining: 819ms\n",
      "842:\tlearn: 26.8508228\ttotal: 4.37s\tremaining: 813ms\n",
      "843:\tlearn: 26.7763707\ttotal: 4.37s\tremaining: 808ms\n",
      "844:\tlearn: 26.7138934\ttotal: 4.38s\tremaining: 803ms\n",
      "845:\tlearn: 26.6273026\ttotal: 4.38s\tremaining: 798ms\n",
      "846:\tlearn: 26.5740159\ttotal: 4.39s\tremaining: 793ms\n",
      "847:\tlearn: 26.5462140\ttotal: 4.39s\tremaining: 787ms\n",
      "848:\tlearn: 26.4654332\ttotal: 4.4s\tremaining: 782ms\n",
      "849:\tlearn: 26.3901397\ttotal: 4.4s\tremaining: 777ms\n",
      "850:\tlearn: 26.3070141\ttotal: 4.41s\tremaining: 771ms\n",
      "851:\tlearn: 26.2458288\ttotal: 4.41s\tremaining: 766ms\n",
      "852:\tlearn: 26.1728098\ttotal: 4.42s\tremaining: 761ms\n",
      "853:\tlearn: 26.1000783\ttotal: 4.42s\tremaining: 756ms\n",
      "854:\tlearn: 26.0332429\ttotal: 4.42s\tremaining: 750ms\n",
      "855:\tlearn: 25.9349943\ttotal: 4.43s\tremaining: 745ms\n",
      "856:\tlearn: 25.8637620\ttotal: 4.43s\tremaining: 740ms\n",
      "857:\tlearn: 25.7882232\ttotal: 4.44s\tremaining: 735ms\n",
      "858:\tlearn: 25.7505523\ttotal: 4.44s\tremaining: 729ms\n",
      "859:\tlearn: 25.6739007\ttotal: 4.45s\tremaining: 724ms\n",
      "860:\tlearn: 25.6560678\ttotal: 4.45s\tremaining: 719ms\n",
      "861:\tlearn: 25.5473522\ttotal: 4.46s\tremaining: 713ms\n",
      "862:\tlearn: 25.5304533\ttotal: 4.46s\tremaining: 708ms\n",
      "863:\tlearn: 25.4325386\ttotal: 4.46s\tremaining: 703ms\n",
      "864:\tlearn: 25.4243910\ttotal: 4.47s\tremaining: 697ms\n",
      "865:\tlearn: 25.4034379\ttotal: 4.47s\tremaining: 692ms\n",
      "866:\tlearn: 25.3351338\ttotal: 4.48s\tremaining: 687ms\n",
      "867:\tlearn: 25.3177738\ttotal: 4.48s\tremaining: 682ms\n",
      "868:\tlearn: 25.2623089\ttotal: 4.49s\tremaining: 677ms\n",
      "869:\tlearn: 25.2302302\ttotal: 4.49s\tremaining: 671ms\n",
      "870:\tlearn: 25.1920141\ttotal: 4.5s\tremaining: 666ms\n",
      "871:\tlearn: 25.1140152\ttotal: 4.5s\tremaining: 661ms\n",
      "872:\tlearn: 25.0087965\ttotal: 4.5s\tremaining: 656ms\n",
      "873:\tlearn: 24.9248276\ttotal: 4.51s\tremaining: 650ms\n",
      "874:\tlearn: 24.8540376\ttotal: 4.51s\tremaining: 645ms\n",
      "875:\tlearn: 24.8363465\ttotal: 4.52s\tremaining: 640ms\n",
      "876:\tlearn: 24.7983760\ttotal: 4.53s\tremaining: 635ms\n",
      "877:\tlearn: 24.7275194\ttotal: 4.53s\tremaining: 630ms\n",
      "878:\tlearn: 24.6934909\ttotal: 4.54s\tremaining: 625ms\n",
      "879:\tlearn: 24.6695982\ttotal: 4.54s\tremaining: 619ms\n",
      "880:\tlearn: 24.6022212\ttotal: 4.55s\tremaining: 614ms\n",
      "881:\tlearn: 24.5288988\ttotal: 4.55s\tremaining: 609ms\n",
      "882:\tlearn: 24.4157490\ttotal: 4.56s\tremaining: 604ms\n",
      "883:\tlearn: 24.3574775\ttotal: 4.56s\tremaining: 598ms\n",
      "884:\tlearn: 24.2858239\ttotal: 4.56s\tremaining: 593ms\n",
      "885:\tlearn: 24.2187049\ttotal: 4.57s\tremaining: 588ms\n",
      "886:\tlearn: 24.1344244\ttotal: 4.57s\tremaining: 583ms\n",
      "887:\tlearn: 24.0815648\ttotal: 4.58s\tremaining: 577ms\n",
      "888:\tlearn: 23.9856761\ttotal: 4.58s\tremaining: 572ms\n",
      "889:\tlearn: 23.9108217\ttotal: 4.59s\tremaining: 567ms\n",
      "890:\tlearn: 23.9033697\ttotal: 4.6s\tremaining: 563ms\n",
      "891:\tlearn: 23.8899060\ttotal: 4.61s\tremaining: 558ms\n",
      "892:\tlearn: 23.8141852\ttotal: 4.61s\tremaining: 553ms\n",
      "893:\tlearn: 23.7439413\ttotal: 4.62s\tremaining: 547ms\n",
      "894:\tlearn: 23.6651191\ttotal: 4.62s\tremaining: 542ms\n",
      "895:\tlearn: 23.6441183\ttotal: 4.63s\tremaining: 537ms\n",
      "896:\tlearn: 23.5692144\ttotal: 4.63s\tremaining: 532ms\n",
      "897:\tlearn: 23.4679415\ttotal: 4.63s\tremaining: 526ms\n",
      "898:\tlearn: 23.3988022\ttotal: 4.64s\tremaining: 521ms\n",
      "899:\tlearn: 23.3575419\ttotal: 4.64s\tremaining: 516ms\n",
      "900:\tlearn: 23.2629153\ttotal: 4.65s\tremaining: 511ms\n",
      "901:\tlearn: 23.1697167\ttotal: 4.65s\tremaining: 505ms\n",
      "902:\tlearn: 23.1106245\ttotal: 4.66s\tremaining: 500ms\n",
      "903:\tlearn: 23.0386782\ttotal: 4.66s\tremaining: 495ms\n",
      "904:\tlearn: 22.9887454\ttotal: 4.67s\tremaining: 490ms\n",
      "905:\tlearn: 22.9700772\ttotal: 4.68s\tremaining: 486ms\n",
      "906:\tlearn: 22.9551642\ttotal: 4.69s\tremaining: 481ms\n",
      "907:\tlearn: 22.9036573\ttotal: 4.7s\tremaining: 476ms\n",
      "908:\tlearn: 22.8418755\ttotal: 4.7s\tremaining: 471ms\n",
      "909:\tlearn: 22.7771404\ttotal: 4.71s\tremaining: 465ms\n",
      "910:\tlearn: 22.7018537\ttotal: 4.71s\tremaining: 460ms\n",
      "911:\tlearn: 22.6135580\ttotal: 4.71s\tremaining: 455ms\n",
      "912:\tlearn: 22.5303397\ttotal: 4.72s\tremaining: 450ms\n",
      "913:\tlearn: 22.4438229\ttotal: 4.72s\tremaining: 444ms\n",
      "914:\tlearn: 22.3774188\ttotal: 4.73s\tremaining: 439ms\n",
      "915:\tlearn: 22.2871095\ttotal: 4.73s\tremaining: 434ms\n",
      "916:\tlearn: 22.2798612\ttotal: 4.74s\tremaining: 429ms\n",
      "917:\tlearn: 22.1972631\ttotal: 4.74s\tremaining: 423ms\n",
      "918:\tlearn: 22.1563878\ttotal: 4.74s\tremaining: 418ms\n",
      "919:\tlearn: 22.0917519\ttotal: 4.75s\tremaining: 413ms\n",
      "920:\tlearn: 22.0300874\ttotal: 4.75s\tremaining: 408ms\n",
      "921:\tlearn: 21.9520684\ttotal: 4.76s\tremaining: 403ms\n",
      "922:\tlearn: 21.8930157\ttotal: 4.76s\tremaining: 397ms\n",
      "923:\tlearn: 21.8707094\ttotal: 4.77s\tremaining: 392ms\n",
      "924:\tlearn: 21.8109518\ttotal: 4.77s\tremaining: 387ms\n",
      "925:\tlearn: 21.7581351\ttotal: 4.78s\tremaining: 382ms\n",
      "926:\tlearn: 21.6974062\ttotal: 4.78s\tremaining: 377ms\n",
      "927:\tlearn: 21.6403834\ttotal: 4.79s\tremaining: 371ms\n",
      "928:\tlearn: 21.5988535\ttotal: 4.79s\tremaining: 366ms\n",
      "929:\tlearn: 21.5816150\ttotal: 4.79s\tremaining: 361ms\n",
      "930:\tlearn: 21.5507290\ttotal: 4.8s\tremaining: 356ms\n",
      "931:\tlearn: 21.4900255\ttotal: 4.8s\tremaining: 351ms\n",
      "932:\tlearn: 21.4279254\ttotal: 4.81s\tremaining: 345ms\n",
      "933:\tlearn: 21.4057385\ttotal: 4.81s\tremaining: 340ms\n",
      "934:\tlearn: 21.3599718\ttotal: 4.82s\tremaining: 335ms\n",
      "935:\tlearn: 21.3094137\ttotal: 4.82s\tremaining: 330ms\n",
      "936:\tlearn: 21.2647973\ttotal: 4.83s\tremaining: 325ms\n",
      "937:\tlearn: 21.2199904\ttotal: 4.83s\tremaining: 319ms\n",
      "938:\tlearn: 21.1712806\ttotal: 4.84s\tremaining: 314ms\n",
      "939:\tlearn: 21.1252965\ttotal: 4.84s\tremaining: 309ms\n",
      "940:\tlearn: 21.0869887\ttotal: 4.85s\tremaining: 304ms\n",
      "941:\tlearn: 21.0258272\ttotal: 4.85s\tremaining: 299ms\n",
      "942:\tlearn: 20.9718653\ttotal: 4.86s\tremaining: 294ms\n",
      "943:\tlearn: 20.9115610\ttotal: 4.86s\tremaining: 288ms\n",
      "944:\tlearn: 20.8659615\ttotal: 4.87s\tremaining: 283ms\n",
      "945:\tlearn: 20.8081318\ttotal: 4.87s\tremaining: 278ms\n",
      "946:\tlearn: 20.7688755\ttotal: 4.88s\tremaining: 273ms\n",
      "947:\tlearn: 20.7508046\ttotal: 4.88s\tremaining: 268ms\n",
      "948:\tlearn: 20.6915259\ttotal: 4.88s\tremaining: 263ms\n",
      "949:\tlearn: 20.6138546\ttotal: 4.89s\tremaining: 257ms\n",
      "950:\tlearn: 20.5227059\ttotal: 4.89s\tremaining: 252ms\n",
      "951:\tlearn: 20.4800437\ttotal: 4.9s\tremaining: 247ms\n",
      "952:\tlearn: 20.3986491\ttotal: 4.9s\tremaining: 242ms\n",
      "953:\tlearn: 20.3201306\ttotal: 4.91s\tremaining: 237ms\n",
      "954:\tlearn: 20.3139545\ttotal: 4.91s\tremaining: 232ms\n",
      "955:\tlearn: 20.2440481\ttotal: 4.92s\tremaining: 226ms\n",
      "956:\tlearn: 20.1984936\ttotal: 4.92s\tremaining: 221ms\n",
      "957:\tlearn: 20.1435005\ttotal: 4.93s\tremaining: 216ms\n",
      "958:\tlearn: 20.0738901\ttotal: 4.93s\tremaining: 211ms\n",
      "959:\tlearn: 20.0193947\ttotal: 4.94s\tremaining: 206ms\n",
      "960:\tlearn: 19.9786131\ttotal: 4.94s\tremaining: 201ms\n",
      "961:\tlearn: 19.9359067\ttotal: 4.95s\tremaining: 196ms\n",
      "962:\tlearn: 19.8741912\ttotal: 4.96s\tremaining: 190ms\n",
      "963:\tlearn: 19.8377304\ttotal: 4.96s\tremaining: 185ms\n",
      "964:\tlearn: 19.7807061\ttotal: 4.96s\tremaining: 180ms\n",
      "965:\tlearn: 19.7200821\ttotal: 4.97s\tremaining: 175ms\n",
      "966:\tlearn: 19.6662468\ttotal: 4.97s\tremaining: 170ms\n",
      "967:\tlearn: 19.6182839\ttotal: 4.98s\tremaining: 165ms\n",
      "968:\tlearn: 19.5704877\ttotal: 4.98s\tremaining: 159ms\n",
      "969:\tlearn: 19.5070181\ttotal: 4.99s\tremaining: 154ms\n",
      "970:\tlearn: 19.4556591\ttotal: 4.99s\tremaining: 149ms\n",
      "971:\tlearn: 19.3886293\ttotal: 5s\tremaining: 144ms\n",
      "972:\tlearn: 19.3177989\ttotal: 5s\tremaining: 139ms\n",
      "973:\tlearn: 19.2516382\ttotal: 5.01s\tremaining: 134ms\n",
      "974:\tlearn: 19.1873737\ttotal: 5.01s\tremaining: 129ms\n",
      "975:\tlearn: 19.1362360\ttotal: 5.02s\tremaining: 123ms\n",
      "976:\tlearn: 19.0892754\ttotal: 5.02s\tremaining: 118ms\n",
      "977:\tlearn: 19.0318394\ttotal: 5.03s\tremaining: 113ms\n",
      "978:\tlearn: 19.0274111\ttotal: 5.03s\tremaining: 108ms\n",
      "979:\tlearn: 18.9838104\ttotal: 5.04s\tremaining: 103ms\n",
      "980:\tlearn: 18.9195141\ttotal: 5.04s\tremaining: 97.7ms\n",
      "981:\tlearn: 18.8826598\ttotal: 5.05s\tremaining: 92.5ms\n",
      "982:\tlearn: 18.8368873\ttotal: 5.05s\tremaining: 87.4ms\n",
      "983:\tlearn: 18.7745908\ttotal: 5.06s\tremaining: 82.2ms\n",
      "984:\tlearn: 18.7082166\ttotal: 5.06s\tremaining: 77.1ms\n",
      "985:\tlearn: 18.6508513\ttotal: 5.07s\tremaining: 71.9ms\n",
      "986:\tlearn: 18.5887143\ttotal: 5.07s\tremaining: 66.8ms\n",
      "987:\tlearn: 18.5699523\ttotal: 5.08s\tremaining: 61.6ms\n",
      "988:\tlearn: 18.5209967\ttotal: 5.08s\tremaining: 56.5ms\n",
      "989:\tlearn: 18.4910617\ttotal: 5.08s\tremaining: 51.4ms\n",
      "990:\tlearn: 18.4384805\ttotal: 5.09s\tremaining: 46.2ms\n",
      "991:\tlearn: 18.4232326\ttotal: 5.09s\tremaining: 41.1ms\n",
      "992:\tlearn: 18.3599029\ttotal: 5.1s\tremaining: 35.9ms\n",
      "993:\tlearn: 18.2948207\ttotal: 5.1s\tremaining: 30.8ms\n",
      "994:\tlearn: 18.2706900\ttotal: 5.11s\tremaining: 25.7ms\n",
      "995:\tlearn: 18.2584273\ttotal: 5.11s\tremaining: 20.5ms\n",
      "996:\tlearn: 18.1709154\ttotal: 5.12s\tremaining: 15.4ms\n",
      "997:\tlearn: 18.1038112\ttotal: 5.12s\tremaining: 10.3ms\n",
      "998:\tlearn: 18.0378836\ttotal: 5.13s\tremaining: 5.13ms\n",
      "999:\tlearn: 17.9697949\ttotal: 5.13s\tremaining: 0us\n"
     ]
    }
   ],
   "source": [
    "cat_model = CatBoostRegressor().fit(X_train,y_train)"
   ]
  },
  {
   "cell_type": "code",
   "execution_count": 27,
   "metadata": {},
   "outputs": [
    {
     "data": {
      "text/plain": [
       "220.73127122519873"
      ]
     },
     "execution_count": 27,
     "metadata": {},
     "output_type": "execute_result"
    }
   ],
   "source": [
    "y_pred = cat_model.predict(X_test)\n",
    "np.sqrt(mean_squared_error(y_test,y_pred))"
   ]
  },
  {
   "cell_type": "markdown",
   "metadata": {},
   "source": [
    "## Automatization"
   ]
  },
  {
   "cell_type": "code",
   "execution_count": 52,
   "metadata": {},
   "outputs": [],
   "source": [
    "def Function(Modelx):\n",
    "    model = Modelx().fit(X_train,y_train)\n",
    "    y_pred = model.predict(X_test)\n",
    "    return(np.sqrt(mean_squared_error(y_test,y_pred)))\n",
    "    "
   ]
  },
  {
   "cell_type": "code",
   "execution_count": 31,
   "metadata": {},
   "outputs": [
    {
     "data": {
      "text/plain": [
       "236.18262254984387"
      ]
     },
     "execution_count": 31,
     "metadata": {},
     "output_type": "execute_result"
    }
   ],
   "source": [
    "Function(GradientBoostingRegressor())"
   ]
  },
  {
   "cell_type": "code",
   "execution_count": 32,
   "metadata": {},
   "outputs": [
    {
     "data": {
      "text/plain": [
       "253.3970763572999"
      ]
     },
     "execution_count": 32,
     "metadata": {},
     "output_type": "execute_result"
    }
   ],
   "source": [
    "Function(RandomForestRegressor())"
   ]
  },
  {
   "cell_type": "code",
   "execution_count": 65,
   "metadata": {},
   "outputs": [],
   "source": [
    "list=[GradientBoostingRegressor, RandomForestRegressor, KNeighborsRegressor, MLPRegressor, LinearRegression, SVR, DecisionTreeRegressor, LGBMRegressor, XGBRegressor]"
   ]
  },
  {
   "cell_type": "code",
   "execution_count": 67,
   "metadata": {},
   "outputs": [],
   "source": [
    "def Function(modelx):\n",
    "    model = modelx().fit(X_train,y_train)\n",
    "    y_pred = model.predict(X_test)\n",
    "    print(modelx.__name__,\":\",np.sqrt(mean_squared_error(y_test,y_pred)))"
   ]
  },
  {
   "cell_type": "code",
   "execution_count": 68,
   "metadata": {},
   "outputs": [
    {
     "name": "stdout",
     "output_type": "stream",
     "text": [
      "GradientBoostingRegressor : 232.41992893872674\n",
      "RandomForestRegressor : 247.57958521588344\n",
      "KNeighborsRegressor : 242.67275994924867\n",
      "MLPRegressor : 258.4082851039541\n",
      "LinearRegression : 298.0630773563609\n",
      "SVR : 346.5065901548966\n",
      "DecisionTreeRegressor : 382.62532408803224\n",
      "LGBMRegressor : 251.7558450877996\n",
      "XGBRegressor : 238.3154190060623\n"
     ]
    }
   ],
   "source": [
    "for i in list:\n",
    "    Function(i)"
   ]
  },
  {
   "cell_type": "code",
   "execution_count": 56,
   "metadata": {},
   "outputs": [
    {
     "name": "stdout",
     "output_type": "stream",
     "text": [
      ": 235.2532969394213\n"
     ]
    }
   ],
   "source": [
    "model = GradientBoostingRegressor().fit(X_train,y_train)\n",
    "y_pred = model.predict(X_test)\n",
    "print(\":\",np.sqrt(mean_squared_error(y_test,y_pred)))"
   ]
  },
  {
   "cell_type": "code",
   "execution_count": null,
   "metadata": {},
   "outputs": [],
   "source": []
  }
 ],
 "metadata": {
  "kernelspec": {
   "display_name": "Python 3",
   "language": "python",
   "name": "python3"
  },
  "language_info": {
   "codemirror_mode": {
    "name": "ipython",
    "version": 3
   },
   "file_extension": ".py",
   "mimetype": "text/x-python",
   "name": "python",
   "nbconvert_exporter": "python",
   "pygments_lexer": "ipython3",
   "version": "3.7.6"
  }
 },
 "nbformat": 4,
 "nbformat_minor": 4
}
